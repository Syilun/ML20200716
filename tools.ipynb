{
  "nbformat": 4,
  "nbformat_minor": 0,
  "metadata": {
    "colab": {
      "name": "tools.ipynb",
      "provenance": [],
      "authorship_tag": "ABX9TyPguvp4RSyskysx1i9CMtFx",
      "include_colab_link": true
    },
    "kernelspec": {
      "name": "python3",
      "display_name": "Python 3"
    }
  },
  "cells": [
    {
      "cell_type": "markdown",
      "metadata": {
        "id": "view-in-github",
        "colab_type": "text"
      },
      "source": [
        "<a href=\"https://colab.research.google.com/github/Syilun/ML20200716/blob/master/tools.ipynb\" target=\"_parent\"><img src=\"https://colab.research.google.com/assets/colab-badge.svg\" alt=\"Open In Colab\"/></a>"
      ]
    },
    {
      "cell_type": "code",
      "metadata": {
        "id": "0Qydv7-KYqts",
        "colab_type": "code",
        "colab": {
          "base_uri": "https://localhost:8080/",
          "height": 187
        },
        "outputId": "91d40b64-01f0-4ddf-aa73-4080225f2e64"
      },
      "source": [
        "!pip install opencc-python-reimplemented"
      ],
      "execution_count": null,
      "outputs": [
        {
          "output_type": "stream",
          "text": [
            "Collecting opencc-python-reimplemented\n",
            "\u001b[?25l  Downloading https://files.pythonhosted.org/packages/04/aa/02c5ffc87e2bf1da1f476d35aa4de69cad2cfc3140e37114755c454d1231/opencc-python-reimplemented-0.1.6.tar.gz (484kB)\n",
            "\r\u001b[K     |▊                               | 10kB 14.5MB/s eta 0:00:01\r\u001b[K     |█▍                              | 20kB 1.7MB/s eta 0:00:01\r\u001b[K     |██                              | 30kB 2.2MB/s eta 0:00:01\r\u001b[K     |██▊                             | 40kB 2.4MB/s eta 0:00:01\r\u001b[K     |███▍                            | 51kB 2.0MB/s eta 0:00:01\r\u001b[K     |████                            | 61kB 2.2MB/s eta 0:00:01\r\u001b[K     |████▊                           | 71kB 2.4MB/s eta 0:00:01\r\u001b[K     |█████▍                          | 81kB 2.7MB/s eta 0:00:01\r\u001b[K     |██████                          | 92kB 2.8MB/s eta 0:00:01\r\u001b[K     |██████▊                         | 102kB 2.7MB/s eta 0:00:01\r\u001b[K     |███████▍                        | 112kB 2.7MB/s eta 0:00:01\r\u001b[K     |████████▏                       | 122kB 2.7MB/s eta 0:00:01\r\u001b[K     |████████▉                       | 133kB 2.7MB/s eta 0:00:01\r\u001b[K     |█████████▌                      | 143kB 2.7MB/s eta 0:00:01\r\u001b[K     |██████████▏                     | 153kB 2.7MB/s eta 0:00:01\r\u001b[K     |██████████▉                     | 163kB 2.7MB/s eta 0:00:01\r\u001b[K     |███████████▌                    | 174kB 2.7MB/s eta 0:00:01\r\u001b[K     |████████████▏                   | 184kB 2.7MB/s eta 0:00:01\r\u001b[K     |████████████▉                   | 194kB 2.7MB/s eta 0:00:01\r\u001b[K     |█████████████▌                  | 204kB 2.7MB/s eta 0:00:01\r\u001b[K     |██████████████▏                 | 215kB 2.7MB/s eta 0:00:01\r\u001b[K     |██████████████▉                 | 225kB 2.7MB/s eta 0:00:01\r\u001b[K     |███████████████▌                | 235kB 2.7MB/s eta 0:00:01\r\u001b[K     |████████████████▎               | 245kB 2.7MB/s eta 0:00:01\r\u001b[K     |█████████████████               | 256kB 2.7MB/s eta 0:00:01\r\u001b[K     |█████████████████▋              | 266kB 2.7MB/s eta 0:00:01\r\u001b[K     |██████████████████▎             | 276kB 2.7MB/s eta 0:00:01\r\u001b[K     |███████████████████             | 286kB 2.7MB/s eta 0:00:01\r\u001b[K     |███████████████████▋            | 296kB 2.7MB/s eta 0:00:01\r\u001b[K     |████████████████████▎           | 307kB 2.7MB/s eta 0:00:01\r\u001b[K     |█████████████████████           | 317kB 2.7MB/s eta 0:00:01\r\u001b[K     |█████████████████████▋          | 327kB 2.7MB/s eta 0:00:01\r\u001b[K     |██████████████████████▎         | 337kB 2.7MB/s eta 0:00:01\r\u001b[K     |███████████████████████         | 348kB 2.7MB/s eta 0:00:01\r\u001b[K     |███████████████████████▊        | 358kB 2.7MB/s eta 0:00:01\r\u001b[K     |████████████████████████▍       | 368kB 2.7MB/s eta 0:00:01\r\u001b[K     |█████████████████████████       | 378kB 2.7MB/s eta 0:00:01\r\u001b[K     |█████████████████████████▊      | 389kB 2.7MB/s eta 0:00:01\r\u001b[K     |██████████████████████████▍     | 399kB 2.7MB/s eta 0:00:01\r\u001b[K     |███████████████████████████     | 409kB 2.7MB/s eta 0:00:01\r\u001b[K     |███████████████████████████▊    | 419kB 2.7MB/s eta 0:00:01\r\u001b[K     |████████████████████████████▍   | 430kB 2.7MB/s eta 0:00:01\r\u001b[K     |█████████████████████████████   | 440kB 2.7MB/s eta 0:00:01\r\u001b[K     |█████████████████████████████▊  | 450kB 2.7MB/s eta 0:00:01\r\u001b[K     |██████████████████████████████▍ | 460kB 2.7MB/s eta 0:00:01\r\u001b[K     |███████████████████████████████ | 471kB 2.7MB/s eta 0:00:01\r\u001b[K     |███████████████████████████████▉| 481kB 2.7MB/s eta 0:00:01\r\u001b[K     |████████████████████████████████| 491kB 2.7MB/s \n",
            "\u001b[?25hBuilding wheels for collected packages: opencc-python-reimplemented\n",
            "  Building wheel for opencc-python-reimplemented (setup.py) ... \u001b[?25l\u001b[?25hdone\n",
            "  Created wheel for opencc-python-reimplemented: filename=opencc_python_reimplemented-0.1.6-py2.py3-none-any.whl size=486136 sha256=c814eb808c60d209f182b9f51ba7fe577d458e08a8d9e9fa8ed2e287bf6bde91\n",
            "  Stored in directory: /root/.cache/pip/wheels/54/8a/0f/405db0ba3f02d9af8211422d3ae94c47b3296256f168ac1e68\n",
            "Successfully built opencc-python-reimplemented\n",
            "Installing collected packages: opencc-python-reimplemented\n",
            "Successfully installed opencc-python-reimplemented-0.1.6\n"
          ],
          "name": "stdout"
        }
      ]
    },
    {
      "cell_type": "code",
      "metadata": {
        "id": "2phXH7BHZaWz",
        "colab_type": "code",
        "colab": {
          "base_uri": "https://localhost:8080/",
          "height": 35
        },
        "outputId": "2c2afe71-0031-48aa-e42d-2f8b4c322aa2"
      },
      "source": [
        "from opencc import OpenCC\n",
        "cc = OpenCC('s2twp')  # convert from Simplified Chinese to Traditional Chinese\n",
        "# can also set conversion by calling set_conversion\n",
        "# cc.set_conversion('s2tw')\n",
        "to_convert = '开放中文转换'\n",
        "converted = cc.convert(to_convert)\n",
        "converted"
      ],
      "execution_count": null,
      "outputs": [
        {
          "output_type": "execute_result",
          "data": {
            "application/vnd.google.colaboratory.intrinsic": {
              "type": "string"
            },
            "text/plain": [
              "'開放中文轉換'"
            ]
          },
          "metadata": {
            "tags": []
          },
          "execution_count": 4
        }
      ]
    },
    {
      "cell_type": "code",
      "metadata": {
        "id": "bKwXEpVScQL9",
        "colab_type": "code",
        "colab": {}
      },
      "source": [
        "news = '''\n",
        "前高雄市長韓國瑜遭罷免後，雖韓國瑜稱要休息一下，但其未來動向還是備受關注。日前，有民眾目擊到韓國瑜現身在高鐵站，韓粉得知消息，感性向韓告白，「我一生追隨的政治領袖！我們想念您了，保重」！\n",
        "韓國瑜被罷免後，外界都相當關注他的未來動向，而他也在臉書向大家宣布，自己是一個直接坦蕩的人，從以前到現在，只要有任何動向或想法，一定會親自向大家報告，而非藉由任何管道放出消息，懇請外界不需多做揣測，耗費媒體資源，期盼大家能將寶貴的資源與力量放在關心弱勢族群生活、下一代的教育、以及疫情後台灣的振興方面，這才是台灣社會最必須被正視的一塊。\n",
        "\n",
        "然而，他離開高雄的第36天，則是被民眾目擊現身高鐵雲林站，據《三立新聞網》報導，當時韓的身旁有女兒韓冰和兒子韓天陪同。一看到韓國瑜現身消息，許多韓粉都在臉書《中時電子報》粉專下留言表示，「永遠支持韓國瑜！」、「我一生追隨的政治領袖！我們想念您了，保重」、「看到韓市長真是開心，我們一直都在」、「支持國瑜」、「韓國瑜是我心中永遠的高雄市長」。\n",
        "'''"
      ],
      "execution_count": null,
      "outputs": []
    },
    {
      "cell_type": "code",
      "metadata": {
        "id": "3cgzFjE_aTS7",
        "colab_type": "code",
        "colab": {
          "base_uri": "https://localhost:8080/",
          "height": 103
        },
        "outputId": "58d4b178-48ea-4b70-8d78-6a01172448a3"
      },
      "source": [
        "import jieba\n",
        "# 偶爾用: list(jieba.cut(news))\n",
        "' '.join(jieba.cut(news))"
      ],
      "execution_count": null,
      "outputs": [
        {
          "output_type": "execute_result",
          "data": {
            "application/vnd.google.colaboratory.intrinsic": {
              "type": "string"
            },
            "text/plain": [
              "'\\n 前高雄 市長 韓國 瑜 遭 罷免 後 ， 雖 韓國 瑜 稱 要 休息 一下 ， 但 其 未來 動向 還是 備受 關注 。 日前 ， 有民眾 目擊 到 韓國 瑜 現身 在 高鐵 站 ， 韓粉 得知 消息 ， 感性 向韓 告白 ， 「 我 一生 追隨 的 政治 領袖 ！ 我們 想念 您 了 ， 保重 」 ！ \\n 韓國 瑜 被 罷免 後 ， 外界 都 相當 關注 他 的 未來 動向 ， 而 他 也 在 臉書 向 大家 宣布 ， 自己 是 一個 直接 坦蕩 的 人 ， 從 以前 到 現在 ， 只要 有 任何 動向 或 想法 ， 一定 會 親自 向 大家 報告 ， 而 非 藉由 任何 管道 放出 消息 ， 懇請 外界 不 需多 做 揣測 ， 耗費 媒體 資源 ， 期盼 大家 能將 寶貴 的 資源 與 力量 放在 關心 弱勢 族群 生活 、 下一代 的 教育 、 以及 疫情 後 台灣 的 振興 方面 ， 這才 是 台灣 社會 最 必須 被 正視 的 一塊 。 \\n \\n 然而 ， 他 離開 高雄 的 第 36 天 ， 則是 被民眾 目擊 現身 高鐵 雲林 站 ， 據 《 三立 新聞網 》 報導 ， 當時 韓的 身旁 有 女兒 韓冰 和 兒子 韓天 陪同 。 一 看到 韓國 瑜 現身 消息 ， 許多 韓粉 都 在 臉書 《 中時 電子報 》 粉 專下 留言 表示 ， 「 永遠 支持 韓國 瑜 ！ 」 、 「 我 一生 追隨 的 政治 領袖 ！ 我們 想念 您 了 ， 保重 」 、 「 看到 韓 市長 真是 開心 ， 我們 一直 都 在 」 、 「 支持 國瑜 」 、 「 韓國 瑜 是 我 心中 永遠 的 高雄 市長 」 。 \\n'"
            ]
          },
          "metadata": {
            "tags": []
          },
          "execution_count": 16
        }
      ]
    },
    {
      "cell_type": "code",
      "metadata": {
        "id": "LjhLbkgtfmFX",
        "colab_type": "code",
        "colab": {
          "base_uri": "https://localhost:8080/",
          "height": 188
        },
        "outputId": "511dc274-dcf1-40cf-f68a-84dbe377c44a"
      },
      "source": [
        "import jieba\n",
        "from urllib.request import urlretrieve\n",
        "url = 'https://github.com/fxsjy/jieba/raw/master/extra_dict/dict.txt.big'\n",
        "urlretrieve(url, 'dict.txt.big') # 下載url為\n",
        "jieba.set_dictionary('dict.txt.big') # 設置辭典\n",
        "jieba.load_userdict('mydict.txt') # 自定義辭典\n",
        "' '.join(jieba.cut(news))"
      ],
      "execution_count": 22,
      "outputs": [
        {
          "output_type": "stream",
          "text": [
            "Building prefix dict from /content/dict.txt.big ...\n",
            "Dumping model to file cache /tmp/jieba.u501edca284da514cb68b53a20324f4e3.cache\n",
            "Loading model cost 1.665 seconds.\n",
            "Prefix dict has been built successfully.\n"
          ],
          "name": "stderr"
        },
        {
          "output_type": "execute_result",
          "data": {
            "application/vnd.google.colaboratory.intrinsic": {
              "type": "string"
            },
            "text/plain": [
              "'\\n 前高雄市長 韓國瑜 遭 罷免 後 ， 雖 韓國瑜 稱要 休息 一下 ， 但 其 未來 動向 還是 備受 關注 。 日前 ， 有民眾 目擊 到 韓國瑜 現身 在 高鐵站 ， 韓粉 得知 消息 ， 感性 向韓 告白 ， 「 我 一生 追隨 的 政治 領袖 ！ 我們 想念 您 了 ， 保重 」 ！ \\n 韓國瑜 被 罷免 後 ， 外界 都 相當 關注 他 的 未來 動向 ， 而 他 也 在 臉書 向 大家 宣布 ， 自己 是 一個 直接 坦蕩 的 人 ， 從 以前 到 現在 ， 只要 有 任何 動向 或 想法 ， 一定 會 親自 向 大家 報告 ， 而 非 藉由 任何 管道 放出 消息 ， 懇請 外界 不 需多 做 揣測 ， 耗費 媒體 資源 ， 期盼 大家 能將 寶貴 的 資源 與 力量 放在 關心 弱勢 族群 生活 、 下一代 的 教育 、 以及 疫情 後 台灣 的 振興 方面 ， 這才 是 台灣 社會 最 必須 被 正視 的 一塊 。 \\n \\n 然而 ， 他 離開 高雄 的 第 36 天 ， 則是 被民眾 目擊 現身 高鐵 雲林 站 ， 據 《 三立 新聞網 》 報導 ， 當時 韓的 身旁 有 女兒 韓冰 和 兒子 韓天 陪同 。 一 看到 韓國瑜 現身 消息 ， 許多 韓粉 都 在 臉書 《 中時 電子報 》 粉 專下 留言 表示 ， 「 永遠 支持 韓國瑜 ！ 」 、 「 我 一生 追隨 的 政治 領袖 ！ 我們 想念 您 了 ， 保重 」 、 「 看到 韓 市長 真是 開心 ， 我們 一直 都 在 」 、 「 支持 國瑜 」 、 「 韓國瑜 是 我 心中 永遠 的 高雄 市長 」 。 \\n'"
            ]
          },
          "metadata": {
            "tags": []
          },
          "execution_count": 22
        }
      ]
    },
    {
      "cell_type": "code",
      "metadata": {
        "id": "RqPiz5HhcZZT",
        "colab_type": "code",
        "colab": {
          "base_uri": "https://localhost:8080/",
          "height": 357
        },
        "outputId": "89fb8b44-48ba-44b7-831a-d92120a29dcc"
      },
      "source": [
        "import jieba.analyse\n",
        "url = 'https://github.com/fxsjy/jieba/blob/master/extra_dict/idf.txt.big'\n",
        "urlretrieve(url, 'idf.txt.big')\n",
        "jieba.analyse.set_idf_path('idf.txt.big')\n",
        "jieba.analyse.extract_tags(news)"
      ],
      "execution_count": 24,
      "outputs": [
        {
          "output_type": "execute_result",
          "data": {
            "text/plain": [
              "['韓國瑜',\n",
              " '動向',\n",
              " '現身',\n",
              " '消息',\n",
              " '我們',\n",
              " '大家',\n",
              " '罷免',\n",
              " '未來',\n",
              " '關注',\n",
              " '目擊',\n",
              " '韓粉',\n",
              " '一生',\n",
              " '追隨',\n",
              " '政治',\n",
              " '領袖',\n",
              " '想念',\n",
              " '保重',\n",
              " '外界',\n",
              " '臉書',\n",
              " '任何']"
            ]
          },
          "metadata": {
            "tags": []
          },
          "execution_count": 24
        }
      ]
    },
    {
      "cell_type": "code",
      "metadata": {
        "id": "JvMEs2SI-UAF",
        "colab_type": "code",
        "colab": {}
      },
      "source": [
        ""
      ],
      "execution_count": null,
      "outputs": []
    }
  ]
}