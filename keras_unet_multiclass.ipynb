{
  "nbformat": 4,
  "nbformat_minor": 0,
  "metadata": {
    "_change_revision": 0,
    "_is_fork": false,
    "kernelspec": {
      "display_name": "Python 3",
      "language": "python",
      "name": "python3"
    },
    "language_info": {
      "codemirror_mode": {
        "name": "ipython",
        "version": 3
      },
      "file_extension": ".py",
      "mimetype": "text/x-python",
      "name": "python",
      "nbconvert_exporter": "python",
      "pygments_lexer": "ipython3",
      "version": "3.6.6"
    },
    "colab": {
      "name": "keras-unet-multiclass.ipynb",
      "provenance": [],
      "collapsed_sections": [],
      "include_colab_link": true
    },
    "accelerator": "GPU",
    "widgets": {
      "application/vnd.jupyter.widget-state+json": {
        "a7cb239e0aeb460db641dec8358898d9": {
          "model_module": "@jupyter-widgets/controls",
          "model_name": "HBoxModel",
          "state": {
            "_view_name": "HBoxView",
            "_dom_classes": [],
            "_model_name": "HBoxModel",
            "_view_module": "@jupyter-widgets/controls",
            "_model_module_version": "1.5.0",
            "_view_count": null,
            "_view_module_version": "1.5.0",
            "box_style": "",
            "layout": "IPY_MODEL_0bb7cec6e0c2422f8ef7bfbaaab2c194",
            "_model_module": "@jupyter-widgets/controls",
            "children": [
              "IPY_MODEL_9f15c01b3adb4da5b0a97cbf33546324",
              "IPY_MODEL_d366cacd64ef435e9cab794e5022dece"
            ]
          }
        },
        "0bb7cec6e0c2422f8ef7bfbaaab2c194": {
          "model_module": "@jupyter-widgets/base",
          "model_name": "LayoutModel",
          "state": {
            "_view_name": "LayoutView",
            "grid_template_rows": null,
            "right": null,
            "justify_content": null,
            "_view_module": "@jupyter-widgets/base",
            "overflow": null,
            "_model_module_version": "1.2.0",
            "_view_count": null,
            "flex_flow": null,
            "width": null,
            "min_width": null,
            "border": null,
            "align_items": null,
            "bottom": null,
            "_model_module": "@jupyter-widgets/base",
            "top": null,
            "grid_column": null,
            "overflow_y": null,
            "overflow_x": null,
            "grid_auto_flow": null,
            "grid_area": null,
            "grid_template_columns": null,
            "flex": null,
            "_model_name": "LayoutModel",
            "justify_items": null,
            "grid_row": null,
            "max_height": null,
            "align_content": null,
            "visibility": null,
            "align_self": null,
            "height": null,
            "min_height": null,
            "padding": null,
            "grid_auto_rows": null,
            "grid_gap": null,
            "max_width": null,
            "order": null,
            "_view_module_version": "1.2.0",
            "grid_template_areas": null,
            "object_position": null,
            "object_fit": null,
            "grid_auto_columns": null,
            "margin": null,
            "display": null,
            "left": null
          }
        },
        "9f15c01b3adb4da5b0a97cbf33546324": {
          "model_module": "@jupyter-widgets/controls",
          "model_name": "FloatProgressModel",
          "state": {
            "_view_name": "ProgressView",
            "style": "IPY_MODEL_ed0e73d35ef84bd9adc295805f1d1a59",
            "_dom_classes": [],
            "description": "",
            "_model_name": "FloatProgressModel",
            "bar_style": "success",
            "max": 1,
            "_view_module": "@jupyter-widgets/controls",
            "_model_module_version": "1.5.0",
            "value": 0,
            "_view_count": null,
            "_view_module_version": "1.5.0",
            "orientation": "horizontal",
            "min": 0,
            "description_tooltip": null,
            "_model_module": "@jupyter-widgets/controls",
            "layout": "IPY_MODEL_f1b2e548b5ad401b9bd1a7f5857941f0"
          }
        },
        "d366cacd64ef435e9cab794e5022dece": {
          "model_module": "@jupyter-widgets/controls",
          "model_name": "HTMLModel",
          "state": {
            "_view_name": "HTMLView",
            "style": "IPY_MODEL_2769bf8202e8408697dc74e6f9e1395a",
            "_dom_classes": [],
            "description": "",
            "_model_name": "HTMLModel",
            "placeholder": "​",
            "_view_module": "@jupyter-widgets/controls",
            "_model_module_version": "1.5.0",
            "value": " 0/0 [00:03&lt;?, ?it/s]",
            "_view_count": null,
            "_view_module_version": "1.5.0",
            "description_tooltip": null,
            "_model_module": "@jupyter-widgets/controls",
            "layout": "IPY_MODEL_2dc1230bb88b4ff09a98ff302578c075"
          }
        },
        "ed0e73d35ef84bd9adc295805f1d1a59": {
          "model_module": "@jupyter-widgets/controls",
          "model_name": "ProgressStyleModel",
          "state": {
            "_view_name": "StyleView",
            "_model_name": "ProgressStyleModel",
            "description_width": "initial",
            "_view_module": "@jupyter-widgets/base",
            "_model_module_version": "1.5.0",
            "_view_count": null,
            "_view_module_version": "1.2.0",
            "bar_color": null,
            "_model_module": "@jupyter-widgets/controls"
          }
        },
        "f1b2e548b5ad401b9bd1a7f5857941f0": {
          "model_module": "@jupyter-widgets/base",
          "model_name": "LayoutModel",
          "state": {
            "_view_name": "LayoutView",
            "grid_template_rows": null,
            "right": null,
            "justify_content": null,
            "_view_module": "@jupyter-widgets/base",
            "overflow": null,
            "_model_module_version": "1.2.0",
            "_view_count": null,
            "flex_flow": null,
            "width": null,
            "min_width": null,
            "border": null,
            "align_items": null,
            "bottom": null,
            "_model_module": "@jupyter-widgets/base",
            "top": null,
            "grid_column": null,
            "overflow_y": null,
            "overflow_x": null,
            "grid_auto_flow": null,
            "grid_area": null,
            "grid_template_columns": null,
            "flex": null,
            "_model_name": "LayoutModel",
            "justify_items": null,
            "grid_row": null,
            "max_height": null,
            "align_content": null,
            "visibility": null,
            "align_self": null,
            "height": null,
            "min_height": null,
            "padding": null,
            "grid_auto_rows": null,
            "grid_gap": null,
            "max_width": null,
            "order": null,
            "_view_module_version": "1.2.0",
            "grid_template_areas": null,
            "object_position": null,
            "object_fit": null,
            "grid_auto_columns": null,
            "margin": null,
            "display": null,
            "left": null
          }
        },
        "2769bf8202e8408697dc74e6f9e1395a": {
          "model_module": "@jupyter-widgets/controls",
          "model_name": "DescriptionStyleModel",
          "state": {
            "_view_name": "StyleView",
            "_model_name": "DescriptionStyleModel",
            "description_width": "",
            "_view_module": "@jupyter-widgets/base",
            "_model_module_version": "1.5.0",
            "_view_count": null,
            "_view_module_version": "1.2.0",
            "_model_module": "@jupyter-widgets/controls"
          }
        },
        "2dc1230bb88b4ff09a98ff302578c075": {
          "model_module": "@jupyter-widgets/base",
          "model_name": "LayoutModel",
          "state": {
            "_view_name": "LayoutView",
            "grid_template_rows": null,
            "right": null,
            "justify_content": null,
            "_view_module": "@jupyter-widgets/base",
            "overflow": null,
            "_model_module_version": "1.2.0",
            "_view_count": null,
            "flex_flow": null,
            "width": null,
            "min_width": null,
            "border": null,
            "align_items": null,
            "bottom": null,
            "_model_module": "@jupyter-widgets/base",
            "top": null,
            "grid_column": null,
            "overflow_y": null,
            "overflow_x": null,
            "grid_auto_flow": null,
            "grid_area": null,
            "grid_template_columns": null,
            "flex": null,
            "_model_name": "LayoutModel",
            "justify_items": null,
            "grid_row": null,
            "max_height": null,
            "align_content": null,
            "visibility": null,
            "align_self": null,
            "height": null,
            "min_height": null,
            "padding": null,
            "grid_auto_rows": null,
            "grid_gap": null,
            "max_width": null,
            "order": null,
            "_view_module_version": "1.2.0",
            "grid_template_areas": null,
            "object_position": null,
            "object_fit": null,
            "grid_auto_columns": null,
            "margin": null,
            "display": null,
            "left": null
          }
        }
      }
    }
  },
  "cells": [
    {
      "cell_type": "markdown",
      "metadata": {
        "id": "view-in-github",
        "colab_type": "text"
      },
      "source": [
        "<a href=\"https://colab.research.google.com/github/Syilun/TibameAI04/blob/master/keras_unet_multiclass.ipynb\" target=\"_parent\"><img src=\"https://colab.research.google.com/assets/colab-badge.svg\" alt=\"Open In Colab\"/></a>"
      ]
    },
    {
      "cell_type": "code",
      "metadata": {
        "id": "wHuT9UCClYyV",
        "colab_type": "code",
        "colab": {
          "base_uri": "https://localhost:8080/",
          "height": 122
        },
        "outputId": "7fb230d7-2770-4ae8-8d0a-8c34c5b85bf9"
      },
      "source": [
        "from google.colab import drive\n",
        "drive.mount('/content/drive')"
      ],
      "execution_count": 1,
      "outputs": [
        {
          "output_type": "stream",
          "text": [
            "Go to this URL in a browser: https://accounts.google.com/o/oauth2/auth?client_id=947318989803-6bn6qk8qdgf4n4g3pfee6491hc0brc4i.apps.googleusercontent.com&redirect_uri=urn%3aietf%3awg%3aoauth%3a2.0%3aoob&scope=email%20https%3a%2f%2fwww.googleapis.com%2fauth%2fdocs.test%20https%3a%2f%2fwww.googleapis.com%2fauth%2fdrive%20https%3a%2f%2fwww.googleapis.com%2fauth%2fdrive.photos.readonly%20https%3a%2f%2fwww.googleapis.com%2fauth%2fpeopleapi.readonly&response_type=code\n",
            "\n",
            "Enter your authorization code:\n",
            "··········\n",
            "Mounted at /content/drive\n"
          ],
          "name": "stdout"
        }
      ]
    },
    {
      "cell_type": "code",
      "metadata": {
        "_cell_guid": "d7480c71-95a9-e28d-da4c-8bb468d5970a",
        "id": "LxjO-4qC5W_P",
        "colab_type": "code",
        "colab": {}
      },
      "source": [
        "import os\n",
        "import numpy as np\n",
        "import cv2\n",
        "import matplotlib.pyplot as plt\n",
        "from sklearn.model_selection import train_test_split\n",
        "from glob import glob\n",
        "from tqdm.auto import tqdm"
      ],
      "execution_count": 2,
      "outputs": []
    },
    {
      "cell_type": "code",
      "metadata": {
        "_cell_guid": "f0ebdf4e-bdc3-9c3e-32c2-d3eb6d411724",
        "id": "WQrhwSga5W_S",
        "colab_type": "code",
        "colab": {}
      },
      "source": [
        "import keras\n",
        "from keras.models import Model, load_model\n",
        "from keras.layers import *\n",
        "from keras.optimizers import Adam\n",
        "import keras.backend as K\n",
        "from keras.callbacks import ModelCheckpoint, EarlyStopping\n",
        "from keras.utils import plot_model"
      ],
      "execution_count": 3,
      "outputs": []
    },
    {
      "cell_type": "code",
      "metadata": {
        "id": "_he5xgkdlpLR",
        "colab_type": "code",
        "colab": {}
      },
      "source": [
        "IMAGE_LIB = '/content/drive/My Drive/Tibame AI/智揚/week9/kidney_tumor_seg/img/*.png'\n",
        "MASK_LIB = '/content/drive/My Drive/Tibame AI/智揚/week9/kidney_tumor_segg/mask/*.png'\n",
        "IMG_SIZE = 256\n",
        "SEED = 5566\n",
        "NUM_CLASSES = 3"
      ],
      "execution_count": 8,
      "outputs": []
    },
    {
      "cell_type": "markdown",
      "metadata": {
        "id": "3--3lx4CyMni",
        "colab_type": "text"
      },
      "source": [
        "# Data"
      ]
    },
    {
      "cell_type": "code",
      "metadata": {
        "id": "ADhcfJtUmDOJ",
        "colab_type": "code",
        "colab": {
          "base_uri": "https://localhost:8080/",
          "height": 66,
          "referenced_widgets": [
            "a7cb239e0aeb460db641dec8358898d9",
            "0bb7cec6e0c2422f8ef7bfbaaab2c194",
            "9f15c01b3adb4da5b0a97cbf33546324",
            "d366cacd64ef435e9cab794e5022dece",
            "ed0e73d35ef84bd9adc295805f1d1a59",
            "f1b2e548b5ad401b9bd1a7f5857941f0",
            "2769bf8202e8408697dc74e6f9e1395a",
            "2dc1230bb88b4ff09a98ff302578c075"
          ]
        },
        "outputId": "11bdc041-986f-47cb-d8bc-14172751ded8"
      },
      "source": [
        "img_paths = sorted(glob(IMAGE_LIB))\n",
        "mask_paths = sorted(glob(MASK_LIB))\n",
        "\n",
        "x_data = np.empty((len(img_paths), IMG_SIZE, IMG_SIZE))\n",
        "y_data = np.empty((len(img_paths), IMG_SIZE, IMG_SIZE, NUM_CLASSES))\n",
        "\n",
        "for i, path in enumerate(tqdm(img_paths)):\n",
        "    # read input image\n",
        "    img = cv2.imread(path)[:,:,0] # get channel 0 since it's a gray scale image\n",
        "    img = cv2.resize(img, (IMG_SIZE, IMG_SIZE))\n",
        "    img = img / 255.\n",
        "    x_data[i] = img\n",
        "    filename_img = os.path.split(path)[1] # filename_img: seg1.png\n",
        "    filename = filename_img.split('.')[0] # filename: seg1\n",
        "    # read mask image\n",
        "    for j in range(NUM_CLASSES):\n",
        "        mask = cv2.imread(os.path.join('/content/drive/My Drive/class/勞動部/week9/kidney_tumor_seg/mask', f'{filename}_mask_{j}.png'))[:,:,0] # seg1_mask_0.png, seg1_mask_1.png, seg1_mask_2.png\n",
        "        mask = mask / 255.\n",
        "        mask[mask>=0.5] = 1.\n",
        "        mask[mask<0.5] = 0\n",
        "        mask = cv2.resize(mask, (IMG_SIZE, IMG_SIZE))\n",
        "        y_data[i, :, :, j] = mask\n"
      ],
      "execution_count": 9,
      "outputs": [
        {
          "output_type": "display_data",
          "data": {
            "application/vnd.jupyter.widget-view+json": {
              "model_id": "a7cb239e0aeb460db641dec8358898d9",
              "version_minor": 0,
              "version_major": 2
            },
            "text/plain": [
              "HBox(children=(FloatProgress(value=1.0, bar_style='info', max=1.0), HTML(value='')))"
            ]
          },
          "metadata": {
            "tags": []
          }
        },
        {
          "output_type": "stream",
          "text": [
            "\n"
          ],
          "name": "stdout"
        }
      ]
    },
    {
      "cell_type": "code",
      "metadata": {
        "id": "c2Q8vz_-mEC8",
        "colab_type": "code",
        "colab": {
          "base_uri": "https://localhost:8080/",
          "height": 485
        },
        "outputId": "5d1ab89d-bf80-4e59-b466-33175120e817"
      },
      "source": [
        "fig, ax = plt.subplots(1,4, figsize = (16,4))\n",
        "ax[0].imshow(x_data[0], cmap='gray')\n",
        "ax[1].imshow(y_data[0, :, :, 0], cmap='gray')\n",
        "ax[2].imshow(y_data[0, :, :, 1], cmap='gray')\n",
        "ax[3].imshow(y_data[0, :, :, 2], cmap='gray')\n",
        "plt.show()"
      ],
      "execution_count": 10,
      "outputs": [
        {
          "output_type": "error",
          "ename": "IndexError",
          "evalue": "ignored",
          "traceback": [
            "\u001b[0;31m---------------------------------------------------------------------------\u001b[0m",
            "\u001b[0;31mIndexError\u001b[0m                                Traceback (most recent call last)",
            "\u001b[0;32m<ipython-input-10-3880c201122a>\u001b[0m in \u001b[0;36m<module>\u001b[0;34m()\u001b[0m\n\u001b[1;32m      1\u001b[0m \u001b[0mfig\u001b[0m\u001b[0;34m,\u001b[0m \u001b[0max\u001b[0m \u001b[0;34m=\u001b[0m \u001b[0mplt\u001b[0m\u001b[0;34m.\u001b[0m\u001b[0msubplots\u001b[0m\u001b[0;34m(\u001b[0m\u001b[0;36m1\u001b[0m\u001b[0;34m,\u001b[0m\u001b[0;36m4\u001b[0m\u001b[0;34m,\u001b[0m \u001b[0mfigsize\u001b[0m \u001b[0;34m=\u001b[0m \u001b[0;34m(\u001b[0m\u001b[0;36m16\u001b[0m\u001b[0;34m,\u001b[0m\u001b[0;36m4\u001b[0m\u001b[0;34m)\u001b[0m\u001b[0;34m)\u001b[0m\u001b[0;34m\u001b[0m\u001b[0;34m\u001b[0m\u001b[0m\n\u001b[0;32m----> 2\u001b[0;31m \u001b[0max\u001b[0m\u001b[0;34m[\u001b[0m\u001b[0;36m0\u001b[0m\u001b[0;34m]\u001b[0m\u001b[0;34m.\u001b[0m\u001b[0mimshow\u001b[0m\u001b[0;34m(\u001b[0m\u001b[0mx_data\u001b[0m\u001b[0;34m[\u001b[0m\u001b[0;36m0\u001b[0m\u001b[0;34m]\u001b[0m\u001b[0;34m,\u001b[0m \u001b[0mcmap\u001b[0m\u001b[0;34m=\u001b[0m\u001b[0;34m'gray'\u001b[0m\u001b[0;34m)\u001b[0m\u001b[0;34m\u001b[0m\u001b[0;34m\u001b[0m\u001b[0m\n\u001b[0m\u001b[1;32m      3\u001b[0m \u001b[0max\u001b[0m\u001b[0;34m[\u001b[0m\u001b[0;36m1\u001b[0m\u001b[0;34m]\u001b[0m\u001b[0;34m.\u001b[0m\u001b[0mimshow\u001b[0m\u001b[0;34m(\u001b[0m\u001b[0my_data\u001b[0m\u001b[0;34m[\u001b[0m\u001b[0;36m0\u001b[0m\u001b[0;34m,\u001b[0m \u001b[0;34m:\u001b[0m\u001b[0;34m,\u001b[0m \u001b[0;34m:\u001b[0m\u001b[0;34m,\u001b[0m \u001b[0;36m0\u001b[0m\u001b[0;34m]\u001b[0m\u001b[0;34m,\u001b[0m \u001b[0mcmap\u001b[0m\u001b[0;34m=\u001b[0m\u001b[0;34m'gray'\u001b[0m\u001b[0;34m)\u001b[0m\u001b[0;34m\u001b[0m\u001b[0;34m\u001b[0m\u001b[0m\n\u001b[1;32m      4\u001b[0m \u001b[0max\u001b[0m\u001b[0;34m[\u001b[0m\u001b[0;36m2\u001b[0m\u001b[0;34m]\u001b[0m\u001b[0;34m.\u001b[0m\u001b[0mimshow\u001b[0m\u001b[0;34m(\u001b[0m\u001b[0my_data\u001b[0m\u001b[0;34m[\u001b[0m\u001b[0;36m0\u001b[0m\u001b[0;34m,\u001b[0m \u001b[0;34m:\u001b[0m\u001b[0;34m,\u001b[0m \u001b[0;34m:\u001b[0m\u001b[0;34m,\u001b[0m \u001b[0;36m1\u001b[0m\u001b[0;34m]\u001b[0m\u001b[0;34m,\u001b[0m \u001b[0mcmap\u001b[0m\u001b[0;34m=\u001b[0m\u001b[0;34m'gray'\u001b[0m\u001b[0;34m)\u001b[0m\u001b[0;34m\u001b[0m\u001b[0;34m\u001b[0m\u001b[0m\n\u001b[1;32m      5\u001b[0m \u001b[0max\u001b[0m\u001b[0;34m[\u001b[0m\u001b[0;36m3\u001b[0m\u001b[0;34m]\u001b[0m\u001b[0;34m.\u001b[0m\u001b[0mimshow\u001b[0m\u001b[0;34m(\u001b[0m\u001b[0my_data\u001b[0m\u001b[0;34m[\u001b[0m\u001b[0;36m0\u001b[0m\u001b[0;34m,\u001b[0m \u001b[0;34m:\u001b[0m\u001b[0;34m,\u001b[0m \u001b[0;34m:\u001b[0m\u001b[0;34m,\u001b[0m \u001b[0;36m2\u001b[0m\u001b[0;34m]\u001b[0m\u001b[0;34m,\u001b[0m \u001b[0mcmap\u001b[0m\u001b[0;34m=\u001b[0m\u001b[0;34m'gray'\u001b[0m\u001b[0;34m)\u001b[0m\u001b[0;34m\u001b[0m\u001b[0;34m\u001b[0m\u001b[0m\n",
            "\u001b[0;31mIndexError\u001b[0m: index 0 is out of bounds for axis 0 with size 0"
          ]
        },
        {
          "output_type": "display_data",
          "data": {
            "image/png": "[encoded data removed]",
            "text/plain": [
              "<Figure size 1152x288 with 4 Axes>"
            ]
          },
          "metadata": {
            "tags": [],
            "needs_background": "light"
          }
        }
      ]
    },
    {
      "cell_type": "code",
      "metadata": {
        "id": "tjoXm_MPonY8",
        "colab_type": "code",
        "colab": {}
      },
      "source": [
        "x_data.shape, y_data.shape"
      ],
      "execution_count": null,
      "outputs": []
    },
    {
      "cell_type": "code",
      "metadata": {
        "id": "hfyI8UPjoq44",
        "colab_type": "code",
        "colab": {}
      },
      "source": [
        "x_data = np.expand_dims(x_data, axis=-1)\n",
        "x_data.shape, y_data.shape"
      ],
      "execution_count": null,
      "outputs": []
    },
    {
      "cell_type": "markdown",
      "metadata": {
        "id": "Xuo88bJ3yKD0",
        "colab_type": "text"
      },
      "source": [
        "# Model"
      ]
    },
    {
      "cell_type": "code",
      "metadata": {
        "_cell_guid": "4155b1c5-e3db-1b67-60b0-e20734a6de6d",
        "id": "oPDo9sY85W_i",
        "colab_type": "code",
        "colab": {}
      },
      "source": [
        "# Unet with Conv2DTranspose\n",
        "input_layer = Input(shape=(IMG_SIZE, IMG_SIZE, 1))\n",
        "l = Conv2D(filters=16, kernel_size=(3,3), activation='relu', padding='same')(input_layer)\n",
        "c1 = Conv2D(filters=16, kernel_size=(3,3), activation='relu', padding='same')(l)\n",
        "l = MaxPool2D(strides=(2,2))(c1)\n",
        "l = Conv2D(filters=32, kernel_size=(3,3), activation='relu', padding='same')(l)\n",
        "c2 = Conv2D(filters=32, kernel_size=(3,3), activation='relu', padding='same')(l)\n",
        "l = MaxPool2D(strides=(2,2))(c2)\n",
        "l = Conv2D(filters=64, kernel_size=(3,3), activation='relu', padding='same')(l)\n",
        "c3 = Conv2D(filters=64, kernel_size=(3,3), activation='relu', padding='same')(l)\n",
        "l = MaxPool2D(strides=(2,2))(c3)\n",
        "l = Conv2D(filters=64, kernel_size=(3,3), activation='relu', padding='same')(l)\n",
        "c4 = Conv2D(filters=64, kernel_size=(3,3), activation='relu', padding='same')(l)\n",
        "l = concatenate([Conv2DTranspose(32, (2, 2), strides=(2, 2), padding='same')(c4), c3], axis=-1)\n",
        "l = Conv2D(filters=64, kernel_size=(3,3), activation='relu', padding='same')(l)\n",
        "l = Conv2D(filters=64, kernel_size=(2,2), activation='relu', padding='same')(l)\n",
        "l = concatenate([Conv2DTranspose(32, (2, 2), strides=(2, 2), padding='same')(l), c2], axis=-1)\n",
        "l = Conv2D(filters=64, kernel_size=(3,3), activation='relu', padding='same')(l)\n",
        "l = Conv2D(filters=64, kernel_size=(3,3), activation='relu', padding='same')(l)\n",
        "l = concatenate([Conv2DTranspose(32, (2, 2), strides=(2, 2), padding='same')(l), c1], axis=-1)\n",
        "l = Conv2D(filters=64, kernel_size=(3,3), activation='relu', padding='same')(l)\n",
        "l = Conv2D(filters=64, kernel_size=(3,3), activation='relu', padding='same')(l)\n",
        "output_layer = Conv2D(filters=NUM_CLASSES, kernel_size=(1,1), activation='softmax')(l)\n",
        "                                                         \n",
        "model = Model(input_layer, output_layer)"
      ],
      "execution_count": null,
      "outputs": []
    },
    {
      "cell_type": "code",
      "metadata": {
        "_cell_guid": "6ad74da4-d00e-d3d1-2485-c030e3a934a9",
        "id": "PSW3_dcD5W_k",
        "colab_type": "code",
        "colab": {}
      },
      "source": [
        "model.compile(optimizer=Adam(), loss=keras.losses.categorical_crossentropy)"
      ],
      "execution_count": null,
      "outputs": []
    },
    {
      "cell_type": "code",
      "metadata": {
        "id": "Fx7yjaaMpAA4",
        "colab_type": "code",
        "colab": {}
      },
      "source": [
        "hist = model.fit(x_data, y_data, batch_size=1,\n",
        "                epochs=600, verbose=2)"
      ],
      "execution_count": null,
      "outputs": []
    },
    {
      "cell_type": "code",
      "metadata": {
        "id": "Y0RaTwi5sGGw",
        "colab_type": "code",
        "colab": {}
      },
      "source": [
        "model.save('multi-class-seg.h5')"
      ],
      "execution_count": null,
      "outputs": []
    },
    {
      "cell_type": "markdown",
      "metadata": {
        "_cell_guid": "f7adc85e-b87d-dc30-2a07-ec882982f13a",
        "id": "mAHrjw0m5W_x",
        "colab_type": "text"
      },
      "source": [
        "## Display"
      ]
    },
    {
      "cell_type": "code",
      "metadata": {
        "_cell_guid": "42915086-30d2-4e17-863f-a4bd29b667cf",
        "id": "KZnJfV4a5W_2",
        "colab_type": "code",
        "colab": {}
      },
      "source": [
        "img_input = x_data[0:1]\n",
        "y_pred = model.predict(img_input)\n",
        "\n",
        "# input img\n",
        "plt.imshow(img_input[0, :, :, 0], cmap='gray')\n",
        "plt.show()\n",
        "\n",
        "# pred\n",
        "fig, ax = plt.subplots(1,3,figsize=(12,4))\n",
        "for i in range(NUM_CLASSES):\n",
        "    pred_mask = y_pred[0, :, :, i]\n",
        "    ax[i].imshow(pred_mask)  \n",
        "plt.show()\n",
        "\n",
        "# Truth\n",
        "fig, ax = plt.subplots(1,3,figsize=(12,4))\n",
        "for i in range(NUM_CLASSES):\n",
        "    y_truth = y_data[0, :, :, i]\n",
        "    ax[i].imshow(y_truth)  \n",
        "plt.show()"
      ],
      "execution_count": null,
      "outputs": []
    },
    {
      "cell_type": "code",
      "metadata": {
        "id": "L4lULORq5W_9",
        "colab_type": "code",
        "colab": {}
      },
      "source": [
        ""
      ],
      "execution_count": null,
      "outputs": []
    }
  ]
}