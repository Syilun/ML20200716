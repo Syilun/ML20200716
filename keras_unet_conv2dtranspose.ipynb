{
  "nbformat": 4,
  "nbformat_minor": 0,
  "metadata": {
    "_change_revision": 0,
    "_is_fork": false,
    "kernelspec": {
      "display_name": "Python 3",
      "language": "python",
      "name": "python3"
    },
    "language_info": {
      "codemirror_mode": {
        "name": "ipython",
        "version": 3
      },
      "file_extension": ".py",
      "mimetype": "text/x-python",
      "name": "python",
      "nbconvert_exporter": "python",
      "pygments_lexer": "ipython3",
      "version": "3.6.6"
    },
    "colab": {
      "name": "keras-unet-conv2dtranspose.ipynb",
      "provenance": [],
      "collapsed_sections": [],
      "include_colab_link": true
    }
  },
  "cells": [
    {
      "cell_type": "markdown",
      "metadata": {
        "id": "view-in-github",
        "colab_type": "text"
      },
      "source": [
        "<a href=\"https://colab.research.google.com/github/Syilun/TibameAI04/blob/master/keras_unet_conv2dtranspose.ipynb\" target=\"_parent\"><img src=\"https://colab.research.google.com/assets/colab-badge.svg\" alt=\"Open In Colab\"/></a>"
      ]
    },
    {
      "cell_type": "code",
      "metadata": {
        "_cell_guid": "d7480c71-95a9-e28d-da4c-8bb468d5970a",
        "id": "LxjO-4qC5W_P",
        "colab_type": "code",
        "colab": {}
      },
      "source": [
        "import os\n",
        "import numpy as np\n",
        "import cv2\n",
        "import matplotlib.pyplot as plt\n",
        "%matplotlib inline\n",
        "from sklearn.model_selection import train_test_split\n",
        "from glob import glob\n",
        "from tqdm.auto import tqdm"
      ],
      "execution_count": 1,
      "outputs": []
    },
    {
      "cell_type": "code",
      "metadata": {
        "id": "HD_cb_qmUflp",
        "colab_type": "code",
        "colab": {
          "base_uri": "https://localhost:8080/",
          "height": 122
        },
        "outputId": "d658cedb-5eaa-4978-c367-799025ba4a90"
      },
      "source": [
        "from google.colab import drive\n",
        "drive.mount('/content/drive')"
      ],
      "execution_count": 2,
      "outputs": [
        {
          "output_type": "stream",
          "text": [
            "Go to this URL in a browser: https://accounts.google.com/o/oauth2/auth?client_id=947318989803-6bn6qk8qdgf4n4g3pfee6491hc0brc4i.apps.googleusercontent.com&redirect_uri=urn%3aietf%3awg%3aoauth%3a2.0%3aoob&scope=email%20https%3a%2f%2fwww.googleapis.com%2fauth%2fdocs.test%20https%3a%2f%2fwww.googleapis.com%2fauth%2fdrive%20https%3a%2f%2fwww.googleapis.com%2fauth%2fdrive.photos.readonly%20https%3a%2f%2fwww.googleapis.com%2fauth%2fpeopleapi.readonly&response_type=code\n",
            "\n",
            "Enter your authorization code:\n",
            "··········\n",
            "Mounted at /content/drive\n"
          ],
          "name": "stdout"
        }
      ]
    },
    {
      "cell_type": "code",
      "metadata": {
        "_cell_guid": "f0ebdf4e-bdc3-9c3e-32c2-d3eb6d411724",
        "id": "WQrhwSga5W_S",
        "colab_type": "code",
        "colab": {}
      },
      "source": [
        "from keras.models import Model, load_model\n",
        "from keras.layers import *\n",
        "from keras.optimizers import Adam\n",
        "from keras.regularizers import l2\n",
        "from keras.preprocessing.image import ImageDataGenerator\n",
        "import keras.backend as K\n",
        "from keras.callbacks import LearningRateScheduler, ModelCheckpoint, EarlyStopping"
      ],
      "execution_count": 3,
      "outputs": []
    },
    {
      "cell_type": "code",
      "metadata": {
        "_cell_guid": "4155b1c5-e3db-1b67-60b0-e20734a6de6d",
        "id": "oPDo9sY85W_i",
        "colab_type": "code",
        "colab": {
          "base_uri": "https://localhost:8080/",
          "height": 233
        },
        "outputId": "ca585d91-8646-4d05-a4ba-aedb16d22288"
      },
      "source": [
        "# 換掉了放大feature map的方式\n",
        "# 將本來up-conv放大兩倍的方式換為conv2D\n",
        "\n",
        "# Unet with Conv2DTranspose\n",
        "input_layer = Input(shape=x_train.shape[1:])\n",
        "c1 = Conv2D(filters=8, kernel_size=(3,3), activation='relu', padding='same')(input_layer)\n",
        "l = MaxPool2D(strides=(2,2))(c1)\n",
        "c2 = Conv2D(filters=16, kernel_size=(3,3), activation='relu', padding='same')(l)\n",
        "l = MaxPool2D(strides=(2,2))(c2)\n",
        "c3 = Conv2D(filters=32, kernel_size=(3,3), activation='relu', padding='same')(l)\n",
        "l = MaxPool2D(strides=(2,2))(c3)\n",
        "c4 = Conv2D(filters=32, kernel_size=(1,1), activation='relu', padding='same')(l)\n",
        "l = concatenate([Conv2DTranspose(32, (2, 2), strides=(2, 2), padding='same')(c4), c3], axis=-1)\n",
        "l = Conv2D(filters=32, kernel_size=(2,2), activation='relu', padding='same')(l)\n",
        "l = concatenate([Conv2DTranspose(32, (2, 2), strides=(2, 2), padding='same')(l), c2], axis=-1)\n",
        "l = Conv2D(filters=24, kernel_size=(2,2), activation='relu', padding='same')(l)\n",
        "l = concatenate([Conv2DTranspose(24, (2, 2), strides=(2, 2), padding='same')(l), c1], axis=-1)\n",
        "l = Conv2D(filters=16, kernel_size=(2,2), activation='relu', padding='same')(l)\n",
        "l = Conv2D(filters=64, kernel_size=(1,1), activation='relu')(l)\n",
        "l = Dropout(0.5)(l)\n",
        "output_layer = Conv2D(filters=1, kernel_size=(1,1), activation='sigmoid')(l)\n",
        "                                                         \n",
        "model = Model(input_layer, output_layer)\n",
        "\n",
        "# 放大這件事情要是可以學習比較好，可能是這個原因，所以conv2Dtranspose做出來的結果比較好。"
      ],
      "execution_count": null,
      "outputs": [
        {
          "output_type": "error",
          "ename": "NameError",
          "evalue": "ignored",
          "traceback": [
            "\u001b[0;31m---------------------------------------------------------------------------\u001b[0m",
            "\u001b[0;31mNameError\u001b[0m                                 Traceback (most recent call last)",
            "\u001b[0;32m<ipython-input-7-f166034372be>\u001b[0m in \u001b[0;36m<module>\u001b[0;34m()\u001b[0m\n\u001b[1;32m      3\u001b[0m \u001b[0;34m\u001b[0m\u001b[0m\n\u001b[1;32m      4\u001b[0m \u001b[0;31m# Unet with Conv2DTranspose\u001b[0m\u001b[0;34m\u001b[0m\u001b[0;34m\u001b[0m\u001b[0;34m\u001b[0m\u001b[0m\n\u001b[0;32m----> 5\u001b[0;31m \u001b[0minput_layer\u001b[0m \u001b[0;34m=\u001b[0m \u001b[0mInput\u001b[0m\u001b[0;34m(\u001b[0m\u001b[0mshape\u001b[0m\u001b[0;34m=\u001b[0m\u001b[0mx_train\u001b[0m\u001b[0;34m.\u001b[0m\u001b[0mshape\u001b[0m\u001b[0;34m[\u001b[0m\u001b[0;36m1\u001b[0m\u001b[0;34m:\u001b[0m\u001b[0;34m]\u001b[0m\u001b[0;34m)\u001b[0m\u001b[0;34m\u001b[0m\u001b[0;34m\u001b[0m\u001b[0m\n\u001b[0m\u001b[1;32m      6\u001b[0m \u001b[0mc1\u001b[0m \u001b[0;34m=\u001b[0m \u001b[0mConv2D\u001b[0m\u001b[0;34m(\u001b[0m\u001b[0mfilters\u001b[0m\u001b[0;34m=\u001b[0m\u001b[0;36m8\u001b[0m\u001b[0;34m,\u001b[0m \u001b[0mkernel_size\u001b[0m\u001b[0;34m=\u001b[0m\u001b[0;34m(\u001b[0m\u001b[0;36m3\u001b[0m\u001b[0;34m,\u001b[0m\u001b[0;36m3\u001b[0m\u001b[0;34m)\u001b[0m\u001b[0;34m,\u001b[0m \u001b[0mactivation\u001b[0m\u001b[0;34m=\u001b[0m\u001b[0;34m'relu'\u001b[0m\u001b[0;34m,\u001b[0m \u001b[0mpadding\u001b[0m\u001b[0;34m=\u001b[0m\u001b[0;34m'same'\u001b[0m\u001b[0;34m)\u001b[0m\u001b[0;34m(\u001b[0m\u001b[0minput_layer\u001b[0m\u001b[0;34m)\u001b[0m\u001b[0;34m\u001b[0m\u001b[0;34m\u001b[0m\u001b[0m\n\u001b[1;32m      7\u001b[0m \u001b[0ml\u001b[0m \u001b[0;34m=\u001b[0m \u001b[0mMaxPool2D\u001b[0m\u001b[0;34m(\u001b[0m\u001b[0mstrides\u001b[0m\u001b[0;34m=\u001b[0m\u001b[0;34m(\u001b[0m\u001b[0;36m2\u001b[0m\u001b[0;34m,\u001b[0m\u001b[0;36m2\u001b[0m\u001b[0;34m)\u001b[0m\u001b[0;34m)\u001b[0m\u001b[0;34m(\u001b[0m\u001b[0mc1\u001b[0m\u001b[0;34m)\u001b[0m\u001b[0;34m\u001b[0m\u001b[0;34m\u001b[0m\u001b[0m\n",
            "\u001b[0;31mNameError\u001b[0m: name 'x_train' is not defined"
          ]
        }
      ]
    },
    {
      "cell_type": "code",
      "metadata": {
        "_cell_guid": "6ad74da4-d00e-d3d1-2485-c030e3a934a9",
        "id": "PSW3_dcD5W_k",
        "colab_type": "code",
        "colab": {}
      },
      "source": [
        "model.summary()"
      ],
      "execution_count": null,
      "outputs": []
    },
    {
      "cell_type": "markdown",
      "metadata": {
        "_cell_guid": "f7adc85e-b87d-dc30-2a07-ec882982f13a",
        "id": "mAHrjw0m5W_x",
        "colab_type": "text"
      },
      "source": [
        "## Evaluate"
      ]
    },
    {
      "cell_type": "code",
      "metadata": {
        "_cell_guid": "58dcc781-74ea-d49b-2d6a-996057a8409a",
        "id": "1rFX_8ub5W_x",
        "colab_type": "code",
        "colab": {}
      },
      "source": [
        "model_final = load_model('drive/My Drive/class/北分署/week9/lung_ct/conv2dTranspose-18-0.13.h5', compile=False)"
      ],
      "execution_count": null,
      "outputs": []
    },
    {
      "cell_type": "code",
      "metadata": {
        "_cell_guid": "6b8146b4-9fdf-78e0-6e2a-9f8e0fecc18f",
        "id": "g-f2l5fj5W_z",
        "colab_type": "code",
        "colab": {}
      },
      "source": [
        "plt.plot(hist.history['loss'], color='b')\n",
        "plt.plot(hist.history['val_loss'], color='r')\n",
        "plt.show()\n",
        "plt.plot(hist.history['dice_coef'], color='b')\n",
        "plt.plot(hist.history['val_dice_coef'], color='r')\n",
        "plt.show()"
      ],
      "execution_count": null,
      "outputs": []
    },
    {
      "cell_type": "code",
      "metadata": {
        "_cell_guid": "f9c5f6cb-a832-e68d-59a0-3e0a331df93b",
        "id": "JhTiZ0w15W_0",
        "colab_type": "code",
        "colab": {}
      },
      "source": [
        "idx = np.random.randint(x_val.shape[0])\n",
        "print(idx)\n",
        "img_test = x_val[idx]\n",
        "mask_pred = model_final.predict(np.expand_dims(img_test, axis=0))\n",
        "mask_pred = mask_pred.reshape((IMG_SIZE, IMG_SIZE))\n",
        "plt.imshow(mask_pred, cmap='gray')"
      ],
      "execution_count": null,
      "outputs": []
    },
    {
      "cell_type": "code",
      "metadata": {
        "_cell_guid": "42915086-30d2-4e17-863f-a4bd29b667cf",
        "id": "KZnJfV4a5W_2",
        "colab_type": "code",
        "colab": {}
      },
      "source": [
        "idx = np.random.randint(x_val.shape[0])\n",
        "print(idx)\n",
        "y_hat = model_final.predict(x_val)\n",
        "fig, ax = plt.subplots(1,3,figsize=(12,6))\n",
        "ax[0].imshow(x_val[i,:,:,0], cmap='gray')\n",
        "ax[1].imshow(y_val[i,:,:,0])\n",
        "ax[2].imshow(y_hat[i,:,:,0])"
      ],
      "execution_count": null,
      "outputs": []
    },
    {
      "cell_type": "markdown",
      "metadata": {
        "_cell_guid": "2c2c632d-ed5d-e43e-6e19-1b9d0cf7600e",
        "id": "4dDiVenO5W_6",
        "colab_type": "text"
      },
      "source": [
        "A good result, but it probably helped that these images are very homogeneous."
      ]
    },
    {
      "cell_type": "code",
      "metadata": {
        "_cell_guid": "6b1ea203-6f3b-3c4b-aa06-972b49625207",
        "id": "cOU6Qlqh5W_6",
        "colab_type": "code",
        "colab": {}
      },
      "source": [
        "# Different threshold\n",
        "idx = np.random.randint(x_val.shape[0])\n",
        "print(idx)\n",
        "# input img\n",
        "plt.imshow(x_val[idx].reshape((IMG_SIZE, IMG_SIZE)), cmap='gray')\n",
        "plt.show()\n",
        "# ground truth\n",
        "plt.imshow(y_val[idx].reshape((IMG_SIZE, IMG_SIZE)))\n",
        "plt.show()\n",
        "# prediction\n",
        "img_test = x_val[idx]\n",
        "mask_pred = model_final.predict(np.expand_dims(img_test, axis=0))\n",
        "mask_pred = mask_pred.reshape((IMG_SIZE, IMG_SIZE))\n",
        "plt.imshow(mask_pred, cmap='gray')\n",
        "plt.show()\n",
        "# prediction with different threshold\n",
        "for i in range(1,10):\n",
        "    threshold = 0.1 * i\n",
        "    print(f'threshold: {threshold}')\n",
        "    mask_threshold = mask_pred.copy()\n",
        "    mask_threshold[mask_threshold >= threshold] = 1\n",
        "    mask_threshold[mask_threshold < threshold] = 0\n",
        "    plt.imshow(mask_threshold)\n",
        "    plt.show()"
      ],
      "execution_count": null,
      "outputs": []
    },
    {
      "cell_type": "code",
      "metadata": {
        "id": "L4lULORq5W_9",
        "colab_type": "code",
        "colab": {}
      },
      "source": [
        ""
      ],
      "execution_count": null,
      "outputs": []
    }
  ]
}