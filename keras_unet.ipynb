{
  "nbformat": 4,
  "nbformat_minor": 0,
  "metadata": {
    "_change_revision": 0,
    "_is_fork": false,
    "kernelspec": {
      "display_name": "Python 3",
      "language": "python",
      "name": "python3"
    },
    "language_info": {
      "codemirror_mode": {
        "name": "ipython",
        "version": 3
      },
      "file_extension": ".py",
      "mimetype": "text/x-python",
      "name": "python",
      "nbconvert_exporter": "python",
      "pygments_lexer": "ipython3",
      "version": "3.6.6"
    },
    "colab": {
      "name": "keras-unet.ipynb",
      "provenance": [],
      "collapsed_sections": [],
      "toc_visible": true,
      "include_colab_link": true
    },
    "widgets": {
      "application/vnd.jupyter.widget-state+json": {
        "092179a805a84549a6e5564da21c9698": {
          "model_module": "@jupyter-widgets/controls",
          "model_name": "HBoxModel",
          "state": {
            "_view_name": "HBoxView",
            "_dom_classes": [],
            "_model_name": "HBoxModel",
            "_view_module": "@jupyter-widgets/controls",
            "_model_module_version": "1.5.0",
            "_view_count": null,
            "_view_module_version": "1.5.0",
            "box_style": "",
            "layout": "IPY_MODEL_201c5f3d3ad14f97869b26a572362aba",
            "_model_module": "@jupyter-widgets/controls",
            "children": [
              "IPY_MODEL_e49b20bf00fa446a91001085f54cad93",
              "IPY_MODEL_5127f3c6231449d096986cdd8f9cdc67"
            ]
          }
        },
        "201c5f3d3ad14f97869b26a572362aba": {
          "model_module": "@jupyter-widgets/base",
          "model_name": "LayoutModel",
          "state": {
            "_view_name": "LayoutView",
            "grid_template_rows": null,
            "right": null,
            "justify_content": null,
            "_view_module": "@jupyter-widgets/base",
            "overflow": null,
            "_model_module_version": "1.2.0",
            "_view_count": null,
            "flex_flow": null,
            "width": null,
            "min_width": null,
            "border": null,
            "align_items": null,
            "bottom": null,
            "_model_module": "@jupyter-widgets/base",
            "top": null,
            "grid_column": null,
            "overflow_y": null,
            "overflow_x": null,
            "grid_auto_flow": null,
            "grid_area": null,
            "grid_template_columns": null,
            "flex": null,
            "_model_name": "LayoutModel",
            "justify_items": null,
            "grid_row": null,
            "max_height": null,
            "align_content": null,
            "visibility": null,
            "align_self": null,
            "height": null,
            "min_height": null,
            "padding": null,
            "grid_auto_rows": null,
            "grid_gap": null,
            "max_width": null,
            "order": null,
            "_view_module_version": "1.2.0",
            "grid_template_areas": null,
            "object_position": null,
            "object_fit": null,
            "grid_auto_columns": null,
            "margin": null,
            "display": null,
            "left": null
          }
        },
        "e49b20bf00fa446a91001085f54cad93": {
          "model_module": "@jupyter-widgets/controls",
          "model_name": "FloatProgressModel",
          "state": {
            "_view_name": "ProgressView",
            "style": "IPY_MODEL_c6c17d4ae5104297bb362fe2c2805f79",
            "_dom_classes": [],
            "description": "",
            "_model_name": "FloatProgressModel",
            "bar_style": "success",
            "max": 1,
            "_view_module": "@jupyter-widgets/controls",
            "_model_module_version": "1.5.0",
            "value": 1,
            "_view_count": null,
            "_view_module_version": "1.5.0",
            "orientation": "horizontal",
            "min": 0,
            "description_tooltip": null,
            "_model_module": "@jupyter-widgets/controls",
            "layout": "IPY_MODEL_c206a7bff414477aa1d699391cbae1d5"
          }
        },
        "5127f3c6231449d096986cdd8f9cdc67": {
          "model_module": "@jupyter-widgets/controls",
          "model_name": "HTMLModel",
          "state": {
            "_view_name": "HTMLView",
            "style": "IPY_MODEL_dae21d746f674c84adbe5ea719bc3ebf",
            "_dom_classes": [],
            "description": "",
            "_model_name": "HTMLModel",
            "placeholder": "​",
            "_view_module": "@jupyter-widgets/controls",
            "_model_module_version": "1.5.0",
            "value": " 10/? [00:02&lt;00:00,  3.85it/s]",
            "_view_count": null,
            "_view_module_version": "1.5.0",
            "description_tooltip": null,
            "_model_module": "@jupyter-widgets/controls",
            "layout": "IPY_MODEL_e3a9b654ea154076a9fbd7f928e06bca"
          }
        },
        "c6c17d4ae5104297bb362fe2c2805f79": {
          "model_module": "@jupyter-widgets/controls",
          "model_name": "ProgressStyleModel",
          "state": {
            "_view_name": "StyleView",
            "_model_name": "ProgressStyleModel",
            "description_width": "initial",
            "_view_module": "@jupyter-widgets/base",
            "_model_module_version": "1.5.0",
            "_view_count": null,
            "_view_module_version": "1.2.0",
            "bar_color": null,
            "_model_module": "@jupyter-widgets/controls"
          }
        },
        "c206a7bff414477aa1d699391cbae1d5": {
          "model_module": "@jupyter-widgets/base",
          "model_name": "LayoutModel",
          "state": {
            "_view_name": "LayoutView",
            "grid_template_rows": null,
            "right": null,
            "justify_content": null,
            "_view_module": "@jupyter-widgets/base",
            "overflow": null,
            "_model_module_version": "1.2.0",
            "_view_count": null,
            "flex_flow": null,
            "width": null,
            "min_width": null,
            "border": null,
            "align_items": null,
            "bottom": null,
            "_model_module": "@jupyter-widgets/base",
            "top": null,
            "grid_column": null,
            "overflow_y": null,
            "overflow_x": null,
            "grid_auto_flow": null,
            "grid_area": null,
            "grid_template_columns": null,
            "flex": null,
            "_model_name": "LayoutModel",
            "justify_items": null,
            "grid_row": null,
            "max_height": null,
            "align_content": null,
            "visibility": null,
            "align_self": null,
            "height": null,
            "min_height": null,
            "padding": null,
            "grid_auto_rows": null,
            "grid_gap": null,
            "max_width": null,
            "order": null,
            "_view_module_version": "1.2.0",
            "grid_template_areas": null,
            "object_position": null,
            "object_fit": null,
            "grid_auto_columns": null,
            "margin": null,
            "display": null,
            "left": null
          }
        },
        "dae21d746f674c84adbe5ea719bc3ebf": {
          "model_module": "@jupyter-widgets/controls",
          "model_name": "DescriptionStyleModel",
          "state": {
            "_view_name": "StyleView",
            "_model_name": "DescriptionStyleModel",
            "description_width": "",
            "_view_module": "@jupyter-widgets/base",
            "_model_module_version": "1.5.0",
            "_view_count": null,
            "_view_module_version": "1.2.0",
            "_model_module": "@jupyter-widgets/controls"
          }
        },
        "e3a9b654ea154076a9fbd7f928e06bca": {
          "model_module": "@jupyter-widgets/base",
          "model_name": "LayoutModel",
          "state": {
            "_view_name": "LayoutView",
            "grid_template_rows": null,
            "right": null,
            "justify_content": null,
            "_view_module": "@jupyter-widgets/base",
            "overflow": null,
            "_model_module_version": "1.2.0",
            "_view_count": null,
            "flex_flow": null,
            "width": null,
            "min_width": null,
            "border": null,
            "align_items": null,
            "bottom": null,
            "_model_module": "@jupyter-widgets/base",
            "top": null,
            "grid_column": null,
            "overflow_y": null,
            "overflow_x": null,
            "grid_auto_flow": null,
            "grid_area": null,
            "grid_template_columns": null,
            "flex": null,
            "_model_name": "LayoutModel",
            "justify_items": null,
            "grid_row": null,
            "max_height": null,
            "align_content": null,
            "visibility": null,
            "align_self": null,
            "height": null,
            "min_height": null,
            "padding": null,
            "grid_auto_rows": null,
            "grid_gap": null,
            "max_width": null,
            "order": null,
            "_view_module_version": "1.2.0",
            "grid_template_areas": null,
            "object_position": null,
            "object_fit": null,
            "grid_auto_columns": null,
            "margin": null,
            "display": null,
            "left": null
          }
        },
        "cdce3bbb3f324329bde3eab0a4ec9930": {
          "model_module": "@jupyter-widgets/controls",
          "model_name": "HBoxModel",
          "state": {
            "_view_name": "HBoxView",
            "_dom_classes": [],
            "_model_name": "HBoxModel",
            "_view_module": "@jupyter-widgets/controls",
            "_model_module_version": "1.5.0",
            "_view_count": null,
            "_view_module_version": "1.5.0",
            "box_style": "",
            "layout": "IPY_MODEL_b461ab7e10514ed682cea9a7ddc0c57e",
            "_model_module": "@jupyter-widgets/controls",
            "children": [
              "IPY_MODEL_c5cd87b9af6e4a558916902f4a858c53",
              "IPY_MODEL_9ea8d853b4d640f9bf17a623e869fb5c"
            ]
          }
        },
        "b461ab7e10514ed682cea9a7ddc0c57e": {
          "model_module": "@jupyter-widgets/base",
          "model_name": "LayoutModel",
          "state": {
            "_view_name": "LayoutView",
            "grid_template_rows": null,
            "right": null,
            "justify_content": null,
            "_view_module": "@jupyter-widgets/base",
            "overflow": null,
            "_model_module_version": "1.2.0",
            "_view_count": null,
            "flex_flow": null,
            "width": null,
            "min_width": null,
            "border": null,
            "align_items": null,
            "bottom": null,
            "_model_module": "@jupyter-widgets/base",
            "top": null,
            "grid_column": null,
            "overflow_y": null,
            "overflow_x": null,
            "grid_auto_flow": null,
            "grid_area": null,
            "grid_template_columns": null,
            "flex": null,
            "_model_name": "LayoutModel",
            "justify_items": null,
            "grid_row": null,
            "max_height": null,
            "align_content": null,
            "visibility": null,
            "align_self": null,
            "height": null,
            "min_height": null,
            "padding": null,
            "grid_auto_rows": null,
            "grid_gap": null,
            "max_width": null,
            "order": null,
            "_view_module_version": "1.2.0",
            "grid_template_areas": null,
            "object_position": null,
            "object_fit": null,
            "grid_auto_columns": null,
            "margin": null,
            "display": null,
            "left": null
          }
        },
        "c5cd87b9af6e4a558916902f4a858c53": {
          "model_module": "@jupyter-widgets/controls",
          "model_name": "FloatProgressModel",
          "state": {
            "_view_name": "ProgressView",
            "style": "IPY_MODEL_85e4c44f6e9d401195d507c50d34c372",
            "_dom_classes": [],
            "description": "",
            "_model_name": "FloatProgressModel",
            "bar_style": "success",
            "max": 1,
            "_view_module": "@jupyter-widgets/controls",
            "_model_module_version": "1.5.0",
            "value": 1,
            "_view_count": null,
            "_view_module_version": "1.5.0",
            "orientation": "horizontal",
            "min": 0,
            "description_tooltip": null,
            "_model_module": "@jupyter-widgets/controls",
            "layout": "IPY_MODEL_bcc18616b6f741f5a4c3b145c8001282"
          }
        },
        "9ea8d853b4d640f9bf17a623e869fb5c": {
          "model_module": "@jupyter-widgets/controls",
          "model_name": "HTMLModel",
          "state": {
            "_view_name": "HTMLView",
            "style": "IPY_MODEL_b36e106e78644aee9697ad2047495e8d",
            "_dom_classes": [],
            "description": "",
            "_model_name": "HTMLModel",
            "placeholder": "​",
            "_view_module": "@jupyter-widgets/controls",
            "_model_module_version": "1.5.0",
            "value": " 10/? [00:04&lt;00:00,  2.16it/s]",
            "_view_count": null,
            "_view_module_version": "1.5.0",
            "description_tooltip": null,
            "_model_module": "@jupyter-widgets/controls",
            "layout": "IPY_MODEL_7fa2e4fe2f384de19be15cb8781c8364"
          }
        },
        "85e4c44f6e9d401195d507c50d34c372": {
          "model_module": "@jupyter-widgets/controls",
          "model_name": "ProgressStyleModel",
          "state": {
            "_view_name": "StyleView",
            "_model_name": "ProgressStyleModel",
            "description_width": "initial",
            "_view_module": "@jupyter-widgets/base",
            "_model_module_version": "1.5.0",
            "_view_count": null,
            "_view_module_version": "1.2.0",
            "bar_color": null,
            "_model_module": "@jupyter-widgets/controls"
          }
        },
        "bcc18616b6f741f5a4c3b145c8001282": {
          "model_module": "@jupyter-widgets/base",
          "model_name": "LayoutModel",
          "state": {
            "_view_name": "LayoutView",
            "grid_template_rows": null,
            "right": null,
            "justify_content": null,
            "_view_module": "@jupyter-widgets/base",
            "overflow": null,
            "_model_module_version": "1.2.0",
            "_view_count": null,
            "flex_flow": null,
            "width": null,
            "min_width": null,
            "border": null,
            "align_items": null,
            "bottom": null,
            "_model_module": "@jupyter-widgets/base",
            "top": null,
            "grid_column": null,
            "overflow_y": null,
            "overflow_x": null,
            "grid_auto_flow": null,
            "grid_area": null,
            "grid_template_columns": null,
            "flex": null,
            "_model_name": "LayoutModel",
            "justify_items": null,
            "grid_row": null,
            "max_height": null,
            "align_content": null,
            "visibility": null,
            "align_self": null,
            "height": null,
            "min_height": null,
            "padding": null,
            "grid_auto_rows": null,
            "grid_gap": null,
            "max_width": null,
            "order": null,
            "_view_module_version": "1.2.0",
            "grid_template_areas": null,
            "object_position": null,
            "object_fit": null,
            "grid_auto_columns": null,
            "margin": null,
            "display": null,
            "left": null
          }
        },
        "b36e106e78644aee9697ad2047495e8d": {
          "model_module": "@jupyter-widgets/controls",
          "model_name": "DescriptionStyleModel",
          "state": {
            "_view_name": "StyleView",
            "_model_name": "DescriptionStyleModel",
            "description_width": "",
            "_view_module": "@jupyter-widgets/base",
            "_model_module_version": "1.5.0",
            "_view_count": null,
            "_view_module_version": "1.2.0",
            "_model_module": "@jupyter-widgets/controls"
          }
        },
        "7fa2e4fe2f384de19be15cb8781c8364": {
          "model_module": "@jupyter-widgets/base",
          "model_name": "LayoutModel",
          "state": {
            "_view_name": "LayoutView",
            "grid_template_rows": null,
            "right": null,
            "justify_content": null,
            "_view_module": "@jupyter-widgets/base",
            "overflow": null,
            "_model_module_version": "1.2.0",
            "_view_count": null,
            "flex_flow": null,
            "width": null,
            "min_width": null,
            "border": null,
            "align_items": null,
            "bottom": null,
            "_model_module": "@jupyter-widgets/base",
            "top": null,
            "grid_column": null,
            "overflow_y": null,
            "overflow_x": null,
            "grid_auto_flow": null,
            "grid_area": null,
            "grid_template_columns": null,
            "flex": null,
            "_model_name": "LayoutModel",
            "justify_items": null,
            "grid_row": null,
            "max_height": null,
            "align_content": null,
            "visibility": null,
            "align_self": null,
            "height": null,
            "min_height": null,
            "padding": null,
            "grid_auto_rows": null,
            "grid_gap": null,
            "max_width": null,
            "order": null,
            "_view_module_version": "1.2.0",
            "grid_template_areas": null,
            "object_position": null,
            "object_fit": null,
            "grid_auto_columns": null,
            "margin": null,
            "display": null,
            "left": null
          }
        }
      }
    },
    "accelerator": "GPU"
  },
  "cells": [
    {
      "cell_type": "markdown",
      "metadata": {
        "id": "view-in-github",
        "colab_type": "text"
      },
      "source": [
        "<a href=\"https://colab.research.google.com/github/Syilun/TibameAI04/blob/master/keras_unet.ipynb\" target=\"_parent\"><img src=\"https://colab.research.google.com/assets/colab-badge.svg\" alt=\"Open In Colab\"/></a>"
      ]
    },
    {
      "cell_type": "code",
      "metadata": {
        "id": "mPp9fKoXsiPf",
        "colab_type": "code",
        "colab": {
          "base_uri": "https://localhost:8080/",
          "height": 122
        },
        "outputId": "e405f275-988d-4e5c-994b-c3f0ff402324"
      },
      "source": [
        "from google.colab import drive\n",
        "drive.mount('/content/drive/')"
      ],
      "execution_count": 1,
      "outputs": [
        {
          "output_type": "stream",
          "text": [
            "Go to this URL in a browser: https://accounts.google.com/o/oauth2/auth?client_id=947318989803-6bn6qk8qdgf4n4g3pfee6491hc0brc4i.apps.googleusercontent.com&redirect_uri=urn%3aietf%3awg%3aoauth%3a2.0%3aoob&scope=email%20https%3a%2f%2fwww.googleapis.com%2fauth%2fdocs.test%20https%3a%2f%2fwww.googleapis.com%2fauth%2fdrive%20https%3a%2f%2fwww.googleapis.com%2fauth%2fdrive.photos.readonly%20https%3a%2f%2fwww.googleapis.com%2fauth%2fpeopleapi.readonly&response_type=code\n",
            "\n",
            "Enter your authorization code:\n",
            "··········\n",
            "Mounted at /content/drive/\n"
          ],
          "name": "stdout"
        }
      ]
    },
    {
      "cell_type": "code",
      "metadata": {
        "_cell_guid": "d7480c71-95a9-e28d-da4c-8bb468d5970a",
        "id": "NsL1Rhc_saSN",
        "colab_type": "code",
        "colab": {}
      },
      "source": [
        "import os\n",
        "import numpy as np\n",
        "import cv2\n",
        "import matplotlib.pyplot as plt\n",
        "%matplotlib inline\n",
        "from sklearn.model_selection import train_test_split\n",
        "from glob import glob\n",
        "from tqdm.auto import tqdm"
      ],
      "execution_count": 2,
      "outputs": []
    },
    {
      "cell_type": "code",
      "metadata": {
        "_cell_guid": "f0ebdf4e-bdc3-9c3e-32c2-d3eb6d411724",
        "id": "0rf67ddEsaSQ",
        "colab_type": "code",
        "colab": {}
      },
      "source": [
        "from keras.models import Model, load_model\n",
        "from keras.layers import *\n",
        "from keras.optimizers import Adam\n",
        "from keras.regularizers import l2\n",
        "from keras.preprocessing.image import ImageDataGenerator\n",
        "import keras.backend as K\n",
        "from keras.callbacks import LearningRateScheduler, ModelCheckpoint, EarlyStopping\n",
        "from keras.utils import plot_model"
      ],
      "execution_count": 3,
      "outputs": []
    },
    {
      "cell_type": "markdown",
      "metadata": {
        "_cell_guid": "faeb9bc7-fc94-73e0-d620-1a7a6533a14e",
        "id": "bztkLBohsaSS",
        "colab_type": "text"
      },
      "source": [
        "## Load and resize the images"
      ]
    },
    {
      "cell_type": "code",
      "metadata": {
        "_cell_guid": "e26ee85c-bb94-282a-37eb-982e87e97309",
        "id": "wova2v5esaSS",
        "colab_type": "code",
        "colab": {}
      },
      "source": [
        "IMAGE_LIB = '/content/drive/My Drive/Tibame AI/智揚/week9/lung_ct/2d_images/*.tif'\n",
        "MASK_LIB = '/content/drive/My Drive/Tibame AI/智揚/week9/lung_ct/2d_masks/*.tif'\n",
        "IMG_SIZE = 256\n",
        "SEED = 5566"
      ],
      "execution_count": 4,
      "outputs": []
    },
    {
      "cell_type": "code",
      "metadata": {
        "_cell_guid": "887c59cb-ba9a-9880-250a-96c500d279f2",
        "id": "f0mgrggnsaSU",
        "colab_type": "code",
        "colab": {
          "base_uri": "https://localhost:8080/",
          "height": 115,
          "referenced_widgets": [
            "092179a805a84549a6e5564da21c9698",
            "201c5f3d3ad14f97869b26a572362aba",
            "e49b20bf00fa446a91001085f54cad93",
            "5127f3c6231449d096986cdd8f9cdc67",
            "c6c17d4ae5104297bb362fe2c2805f79",
            "c206a7bff414477aa1d699391cbae1d5",
            "dae21d746f674c84adbe5ea719bc3ebf",
            "e3a9b654ea154076a9fbd7f928e06bca",
            "cdce3bbb3f324329bde3eab0a4ec9930",
            "b461ab7e10514ed682cea9a7ddc0c57e",
            "c5cd87b9af6e4a558916902f4a858c53",
            "9ea8d853b4d640f9bf17a623e869fb5c",
            "85e4c44f6e9d401195d507c50d34c372",
            "bcc18616b6f741f5a4c3b145c8001282",
            "b36e106e78644aee9697ad2047495e8d",
            "7fa2e4fe2f384de19be15cb8781c8364"
          ]
        },
        "outputId": "67ea4e9e-c0b3-4249-b621-da2b4fbb5e94"
      },
      "source": [
        "img_paths = sorted(glob(IMAGE_LIB))[:10] # demo for 10 images only\n",
        "mask_paths = sorted(glob(MASK_LIB))[:10] # demo for 10 images only\n",
        "\n",
        "x_data = np.empty((len(img_paths), IMG_SIZE, IMG_SIZE))\n",
        "y_data = np.empty((len(img_paths), IMG_SIZE, IMG_SIZE))\n",
        "\n",
        "for i, path in tqdm(enumerate(img_paths)):\n",
        "    img = cv2.imread(path, cv2.IMREAD_UNCHANGED)\n",
        "    img = cv2.resize(img, (IMG_SIZE, IMG_SIZE))\n",
        "    img = (img - np.min(img)) / (np.max(img) - np.min(img))\n",
        "    x_data[i] = img\n",
        "\n",
        "for i, path in tqdm(enumerate(mask_paths)):\n",
        "    img = cv2.imread(path, cv2.IMREAD_UNCHANGED) / 255.\n",
        "    img = cv2.resize(img, (IMG_SIZE, IMG_SIZE))\n",
        "    y_data[i] = img"
      ],
      "execution_count": 5,
      "outputs": [
        {
          "output_type": "display_data",
          "data": {
            "application/vnd.jupyter.widget-view+json": {
              "model_id": "092179a805a84549a6e5564da21c9698",
              "version_minor": 0,
              "version_major": 2
            },
            "text/plain": [
              "HBox(children=(FloatProgress(value=1.0, bar_style='info', max=1.0), HTML(value='')))"
            ]
          },
          "metadata": {
            "tags": []
          }
        },
        {
          "output_type": "stream",
          "text": [
            "\n"
          ],
          "name": "stdout"
        },
        {
          "output_type": "display_data",
          "data": {
            "application/vnd.jupyter.widget-view+json": {
              "model_id": "cdce3bbb3f324329bde3eab0a4ec9930",
              "version_minor": 0,
              "version_major": 2
            },
            "text/plain": [
              "HBox(children=(FloatProgress(value=1.0, bar_style='info', max=1.0), HTML(value='')))"
            ]
          },
          "metadata": {
            "tags": []
          }
        },
        {
          "output_type": "stream",
          "text": [
            "\n"
          ],
          "name": "stdout"
        }
      ]
    },
    {
      "cell_type": "code",
      "metadata": {
        "_cell_guid": "a00820e8-4d24-8063-6bad-45bb6cc59163",
        "id": "G08RUtZmsaSV",
        "colab_type": "code",
        "colab": {
          "base_uri": "https://localhost:8080/",
          "height": 254
        },
        "outputId": "40525232-3626-49db-ef7f-17ceafd8861c"
      },
      "source": [
        "i = np.random.randint(0, x_data.shape[0])\n",
        "fig, ax = plt.subplots(1,2, figsize = (8,4))\n",
        "ax[0].imshow(x_data[i], cmap='gray')\n",
        "ax[1].imshow(y_data[i], cmap='gray')\n",
        "plt.show()"
      ],
      "execution_count": 6,
      "outputs": [
        {
          "output_type": "display_data",
          "data": {
            "image/png": "[encoded data removed]",
            "text/plain": [
              "<Figure size 576x288 with 2 Axes>"
            ]
          },
          "metadata": {
            "tags": [],
            "needs_background": "light"
          }
        }
      ]
    },
    {
      "cell_type": "code",
      "metadata": {
        "_cell_guid": "0e08ba87-b8da-6b05-37e5-cc7e5a6d1963",
        "id": "2-TXRSydsaSY",
        "colab_type": "code",
        "colab": {
          "base_uri": "https://localhost:8080/",
          "height": 34
        },
        "outputId": "4706f512-e490-4084-be4a-0c6a1f52685c"
      },
      "source": [
        "x_data = np.expand_dims(x_data, axis=-1)\n",
        "y_data = np.expand_dims(y_data, axis=-1)\n",
        "x_data.shape, y_data.shape # 因為是黑白的，沒有深度，幫他加一個深度值y_data.shape"
      ],
      "execution_count": 11,
      "outputs": [
        {
          "output_type": "execute_result",
          "data": {
            "text/plain": [
              "((10, 256, 256, 1, 1, 1), (10, 256, 256, 1, 1, 1))"
            ]
          },
          "metadata": {
            "tags": []
          },
          "execution_count": 11
        }
      ]
    },
    {
      "cell_type": "code",
      "metadata": {
        "id": "kXxdJ2bBEFeS",
        "colab_type": "code",
        "colab": {}
      },
      "source": [
        "x_train, x_val, y_train, y_val = train_test_split(x_data, y_data, test_size = 0.2, random_state=5566)"
      ],
      "execution_count": 12,
      "outputs": []
    },
    {
      "cell_type": "code",
      "metadata": {
        "id": "2rST6GcrsaSa",
        "colab_type": "code",
        "colab": {
          "base_uri": "https://localhost:8080/",
          "height": 85
        },
        "outputId": "e01db6d5-1239-49ab-d596-6d52b798ae92"
      },
      "source": [
        "x_train.shape, x_val.shape, y_train.shape, y_val.shape"
      ],
      "execution_count": 13,
      "outputs": [
        {
          "output_type": "execute_result",
          "data": {
            "text/plain": [
              "((8, 256, 256, 1, 1, 1),\n",
              " (2, 256, 256, 1, 1, 1),\n",
              " (8, 256, 256, 1, 1, 1),\n",
              " (2, 256, 256, 1, 1, 1))"
            ]
          },
          "metadata": {
            "tags": []
          },
          "execution_count": 13
        }
      ]
    },
    {
      "cell_type": "markdown",
      "metadata": {
        "_cell_guid": "e3fb4b07-eae5-1064-62c7-aa4df356d9c6",
        "id": "RVuDxi0SsaSc",
        "colab_type": "text"
      },
      "source": [
        "## Define and train model"
      ]
    },
    {
      "cell_type": "code",
      "metadata": {
        "_cell_guid": "94927809-5c23-89ac-2f1d-632e230f7618",
        "id": "2A9AK6CusaSc",
        "colab_type": "code",
        "colab": {}
      },
      "source": [
        "def dice_coef(y_true, y_pred):\n",
        "    y_true_f = K.flatten(y_true)\n",
        "    y_pred_f = K.flatten(y_pred)\n",
        "    intersection = K.sum(y_true_f * y_pred_f)\n",
        "    return (2. * intersection + K.epsilon()) / (K.sum(y_true_f) + K.sum(y_pred_f) + K.epsilon())"
      ],
      "execution_count": 14,
      "outputs": []
    },
    {
      "cell_type": "code",
      "metadata": {
        "_cell_guid": "4155b1c5-e3db-1b67-60b0-e20734a6de6d",
        "id": "aLZzx-rHsaSe",
        "colab_type": "code",
        "colab": {
          "base_uri": "https://localhost:8080/",
          "height": 376
        },
        "outputId": "f918fce9-7a44-47d3-9319-63eacd883d98"
      },
      "source": [
        "input_layer = Input(shape=x_train.shape[1:])\n",
        "c1 = Conv2D(filters=8, kernel_size=(3,3), activation='relu', padding='same')(input_layer)\n",
        "l = MaxPool2D(strides=(2,2))(c1)\n",
        "c2 = Conv2D(filters=16, kernel_size=(3,3), activation='relu', padding='same')(l)\n",
        "l = MaxPool2D(strides=(2,2))(c2)\n",
        "c3 = Conv2D(filters=32, kernel_size=(3,3), activation='relu', padding='same')(l)\n",
        "l = MaxPool2D(strides=(2,2))(c3)\n",
        "c4 = Conv2D(filters=32, kernel_size=(3,3), activation='relu', padding='same')(l)\n",
        "l = concatenate([UpSampling2D(size=(2,2))(c4), c3], axis=-1)\n",
        "l = Conv2D(filters=32, kernel_size=(2,2), activation='relu', padding='same')(l)\n",
        "l = concatenate([UpSampling2D(size=(2,2))(l), c2], axis=-1)\n",
        "l = Conv2D(filters=24, kernel_size=(2,2), activation='relu', padding='same')(l)\n",
        "l = concatenate([UpSampling2D(size=(2,2))(l), c1], axis=-1)\n",
        "l = Conv2D(filters=16, kernel_size=(2,2), activation='relu', padding='same')(l)\n",
        "# 放大兩倍，為了跟前面的結果做深度疊加\n",
        "\n",
        "output_layer = Conv2D(filters=1, kernel_size=(1,1), activation='sigmoid')(l)\n",
        "# 因為此case是做二元分類所以output深度只有1，sigmoid是為了讓值能夠是0~1\n",
        "                                                         \n",
        "model = Model(input_layer, output_layer)\n",
        "\n",
        "# 這個算法好處是參數量很小，所以可以再加大加深"
      ],
      "execution_count": 15,
      "outputs": [
        {
          "output_type": "error",
          "ename": "ValueError",
          "evalue": "ignored",
          "traceback": [
            "\u001b[0;31m---------------------------------------------------------------------------\u001b[0m",
            "\u001b[0;31mValueError\u001b[0m                                Traceback (most recent call last)",
            "\u001b[0;32m<ipython-input-15-d393d4fa3992>\u001b[0m in \u001b[0;36m<module>\u001b[0;34m()\u001b[0m\n\u001b[1;32m      1\u001b[0m \u001b[0minput_layer\u001b[0m \u001b[0;34m=\u001b[0m \u001b[0mInput\u001b[0m\u001b[0;34m(\u001b[0m\u001b[0mshape\u001b[0m\u001b[0;34m=\u001b[0m\u001b[0mx_train\u001b[0m\u001b[0;34m.\u001b[0m\u001b[0mshape\u001b[0m\u001b[0;34m[\u001b[0m\u001b[0;36m1\u001b[0m\u001b[0;34m:\u001b[0m\u001b[0;34m]\u001b[0m\u001b[0;34m)\u001b[0m\u001b[0;34m\u001b[0m\u001b[0;34m\u001b[0m\u001b[0m\n\u001b[1;32m      2\u001b[0m \u001b[0mc1\u001b[0m \u001b[0;34m=\u001b[0m \u001b[0mConv2D\u001b[0m\u001b[0;34m(\u001b[0m\u001b[0mfilters\u001b[0m\u001b[0;34m=\u001b[0m\u001b[0;36m8\u001b[0m\u001b[0;34m,\u001b[0m \u001b[0mkernel_size\u001b[0m\u001b[0;34m=\u001b[0m\u001b[0;34m(\u001b[0m\u001b[0;36m3\u001b[0m\u001b[0;34m,\u001b[0m\u001b[0;36m3\u001b[0m\u001b[0;34m)\u001b[0m\u001b[0;34m,\u001b[0m \u001b[0mactivation\u001b[0m\u001b[0;34m=\u001b[0m\u001b[0;34m'relu'\u001b[0m\u001b[0;34m,\u001b[0m \u001b[0mpadding\u001b[0m\u001b[0;34m=\u001b[0m\u001b[0;34m'same'\u001b[0m\u001b[0;34m)\u001b[0m\u001b[0;34m(\u001b[0m\u001b[0minput_layer\u001b[0m\u001b[0;34m)\u001b[0m\u001b[0;34m\u001b[0m\u001b[0;34m\u001b[0m\u001b[0m\n\u001b[0;32m----> 3\u001b[0;31m \u001b[0ml\u001b[0m \u001b[0;34m=\u001b[0m \u001b[0mMaxPool2D\u001b[0m\u001b[0;34m(\u001b[0m\u001b[0mstrides\u001b[0m\u001b[0;34m=\u001b[0m\u001b[0;34m(\u001b[0m\u001b[0;36m2\u001b[0m\u001b[0;34m,\u001b[0m\u001b[0;36m2\u001b[0m\u001b[0;34m)\u001b[0m\u001b[0;34m)\u001b[0m\u001b[0;34m(\u001b[0m\u001b[0mc1\u001b[0m\u001b[0;34m)\u001b[0m\u001b[0;34m\u001b[0m\u001b[0;34m\u001b[0m\u001b[0m\n\u001b[0m\u001b[1;32m      4\u001b[0m \u001b[0mc2\u001b[0m \u001b[0;34m=\u001b[0m \u001b[0mConv2D\u001b[0m\u001b[0;34m(\u001b[0m\u001b[0mfilters\u001b[0m\u001b[0;34m=\u001b[0m\u001b[0;36m16\u001b[0m\u001b[0;34m,\u001b[0m \u001b[0mkernel_size\u001b[0m\u001b[0;34m=\u001b[0m\u001b[0;34m(\u001b[0m\u001b[0;36m3\u001b[0m\u001b[0;34m,\u001b[0m\u001b[0;36m3\u001b[0m\u001b[0;34m)\u001b[0m\u001b[0;34m,\u001b[0m \u001b[0mactivation\u001b[0m\u001b[0;34m=\u001b[0m\u001b[0;34m'relu'\u001b[0m\u001b[0;34m,\u001b[0m \u001b[0mpadding\u001b[0m\u001b[0;34m=\u001b[0m\u001b[0;34m'same'\u001b[0m\u001b[0;34m)\u001b[0m\u001b[0;34m(\u001b[0m\u001b[0ml\u001b[0m\u001b[0;34m)\u001b[0m\u001b[0;34m\u001b[0m\u001b[0;34m\u001b[0m\u001b[0m\n\u001b[1;32m      5\u001b[0m \u001b[0ml\u001b[0m \u001b[0;34m=\u001b[0m \u001b[0mMaxPool2D\u001b[0m\u001b[0;34m(\u001b[0m\u001b[0mstrides\u001b[0m\u001b[0;34m=\u001b[0m\u001b[0;34m(\u001b[0m\u001b[0;36m2\u001b[0m\u001b[0;34m,\u001b[0m\u001b[0;36m2\u001b[0m\u001b[0;34m)\u001b[0m\u001b[0;34m)\u001b[0m\u001b[0;34m(\u001b[0m\u001b[0mc2\u001b[0m\u001b[0;34m)\u001b[0m\u001b[0;34m\u001b[0m\u001b[0;34m\u001b[0m\u001b[0m\n",
            "\u001b[0;32m/usr/local/lib/python3.6/dist-packages/tensorflow/python/keras/engine/base_layer.py\u001b[0m in \u001b[0;36m__call__\u001b[0;34m(self, *args, **kwargs)\u001b[0m\n\u001b[1;32m    924\u001b[0m     \u001b[0;32mif\u001b[0m \u001b[0m_in_functional_construction_mode\u001b[0m\u001b[0;34m(\u001b[0m\u001b[0mself\u001b[0m\u001b[0;34m,\u001b[0m \u001b[0minputs\u001b[0m\u001b[0;34m,\u001b[0m \u001b[0margs\u001b[0m\u001b[0;34m,\u001b[0m \u001b[0mkwargs\u001b[0m\u001b[0;34m,\u001b[0m \u001b[0minput_list\u001b[0m\u001b[0;34m)\u001b[0m\u001b[0;34m:\u001b[0m\u001b[0;34m\u001b[0m\u001b[0;34m\u001b[0m\u001b[0m\n\u001b[1;32m    925\u001b[0m       return self._functional_construction_call(inputs, args, kwargs,\n\u001b[0;32m--> 926\u001b[0;31m                                                 input_list)\n\u001b[0m\u001b[1;32m    927\u001b[0m \u001b[0;34m\u001b[0m\u001b[0m\n\u001b[1;32m    928\u001b[0m     \u001b[0;31m# Maintains info about the `Layer.call` stack.\u001b[0m\u001b[0;34m\u001b[0m\u001b[0;34m\u001b[0m\u001b[0;34m\u001b[0m\u001b[0m\n",
            "\u001b[0;32m/usr/local/lib/python3.6/dist-packages/tensorflow/python/keras/engine/base_layer.py\u001b[0m in \u001b[0;36m_functional_construction_call\u001b[0;34m(self, inputs, args, kwargs, input_list)\u001b[0m\n\u001b[1;32m   1090\u001b[0m       \u001b[0;31m# TODO(reedwm): We should assert input compatibility after the inputs\u001b[0m\u001b[0;34m\u001b[0m\u001b[0;34m\u001b[0m\u001b[0;34m\u001b[0m\u001b[0m\n\u001b[1;32m   1091\u001b[0m       \u001b[0;31m# are casted, not before.\u001b[0m\u001b[0;34m\u001b[0m\u001b[0;34m\u001b[0m\u001b[0;34m\u001b[0m\u001b[0m\n\u001b[0;32m-> 1092\u001b[0;31m       \u001b[0minput_spec\u001b[0m\u001b[0;34m.\u001b[0m\u001b[0massert_input_compatibility\u001b[0m\u001b[0;34m(\u001b[0m\u001b[0mself\u001b[0m\u001b[0;34m.\u001b[0m\u001b[0minput_spec\u001b[0m\u001b[0;34m,\u001b[0m \u001b[0minputs\u001b[0m\u001b[0;34m,\u001b[0m \u001b[0mself\u001b[0m\u001b[0;34m.\u001b[0m\u001b[0mname\u001b[0m\u001b[0;34m)\u001b[0m\u001b[0;34m\u001b[0m\u001b[0;34m\u001b[0m\u001b[0m\n\u001b[0m\u001b[1;32m   1093\u001b[0m       \u001b[0mgraph\u001b[0m \u001b[0;34m=\u001b[0m \u001b[0mbackend\u001b[0m\u001b[0;34m.\u001b[0m\u001b[0mget_graph\u001b[0m\u001b[0;34m(\u001b[0m\u001b[0;34m)\u001b[0m\u001b[0;34m\u001b[0m\u001b[0;34m\u001b[0m\u001b[0m\n\u001b[1;32m   1094\u001b[0m       \u001b[0;31m# Use `self._name_scope()` to avoid auto-incrementing the name.\u001b[0m\u001b[0;34m\u001b[0m\u001b[0;34m\u001b[0m\u001b[0;34m\u001b[0m\u001b[0m\n",
            "\u001b[0;32m/usr/local/lib/python3.6/dist-packages/tensorflow/python/keras/engine/input_spec.py\u001b[0m in \u001b[0;36massert_input_compatibility\u001b[0;34m(input_spec, inputs, layer_name)\u001b[0m\n\u001b[1;32m    178\u001b[0m                          \u001b[0;34m'expected ndim='\u001b[0m \u001b[0;34m+\u001b[0m \u001b[0mstr\u001b[0m\u001b[0;34m(\u001b[0m\u001b[0mspec\u001b[0m\u001b[0;34m.\u001b[0m\u001b[0mndim\u001b[0m\u001b[0;34m)\u001b[0m \u001b[0;34m+\u001b[0m \u001b[0;34m', found ndim='\u001b[0m \u001b[0;34m+\u001b[0m\u001b[0;34m\u001b[0m\u001b[0;34m\u001b[0m\u001b[0m\n\u001b[1;32m    179\u001b[0m                          \u001b[0mstr\u001b[0m\u001b[0;34m(\u001b[0m\u001b[0mndim\u001b[0m\u001b[0;34m)\u001b[0m \u001b[0;34m+\u001b[0m \u001b[0;34m'. Full shape received: '\u001b[0m \u001b[0;34m+\u001b[0m\u001b[0;34m\u001b[0m\u001b[0;34m\u001b[0m\u001b[0m\n\u001b[0;32m--> 180\u001b[0;31m                          str(x.shape.as_list()))\n\u001b[0m\u001b[1;32m    181\u001b[0m     \u001b[0;32mif\u001b[0m \u001b[0mspec\u001b[0m\u001b[0;34m.\u001b[0m\u001b[0mmax_ndim\u001b[0m \u001b[0;32mis\u001b[0m \u001b[0;32mnot\u001b[0m \u001b[0;32mNone\u001b[0m\u001b[0;34m:\u001b[0m\u001b[0;34m\u001b[0m\u001b[0;34m\u001b[0m\u001b[0m\n\u001b[1;32m    182\u001b[0m       \u001b[0mndim\u001b[0m \u001b[0;34m=\u001b[0m \u001b[0mx\u001b[0m\u001b[0;34m.\u001b[0m\u001b[0mshape\u001b[0m\u001b[0;34m.\u001b[0m\u001b[0mndims\u001b[0m\u001b[0;34m\u001b[0m\u001b[0;34m\u001b[0m\u001b[0m\n",
            "\u001b[0;31mValueError\u001b[0m: Input 0 of layer max_pooling2d is incompatible with the layer: expected ndim=4, found ndim=6. Full shape received: [None, 256, 256, 1, 1, 8]"
          ]
        }
      ]
    },
    {
      "cell_type": "code",
      "metadata": {
        "_cell_guid": "6ad74da4-d00e-d3d1-2485-c030e3a934a9",
        "id": "Tyt0s9E3saSg",
        "colab_type": "code",
        "colab": {}
      },
      "source": [
        "model.summary()"
      ],
      "execution_count": null,
      "outputs": []
    },
    {
      "cell_type": "code",
      "metadata": {
        "id": "IUZnhPVMR8PT",
        "colab_type": "code",
        "colab": {}
      },
      "source": [
        "plot_model(model, show_shapes=True)"
      ],
      "execution_count": null,
      "outputs": []
    },
    {
      "cell_type": "code",
      "metadata": {
        "_cell_guid": "196caf85-15eb-baa9-8ed2-8a4c04a657ec",
        "id": "C1HshO72saSi",
        "colab_type": "code",
        "colab": {}
      },
      "source": [
        "# 定義data_generator，來做資料的擴增\n",
        "# 切割，物件偵測：原圖做的變化，要確定output的結果也做同樣的變化\n",
        "# seg 就不用考慮output\n",
        "\n",
        "def my_generator(x_train, y_train, batch_size):\n",
        "    data_generator = ImageDataGenerator(\n",
        "            width_shift_range=0.1,\n",
        "            height_shift_range=0.1,\n",
        "            rotation_range=10,\n",
        "            zoom_range=0.1).flow(x_train, y_train, batch_size, seed=SEED)\n",
        "    mask_generator = ImageDataGenerator(\n",
        "            width_shift_range=0.1,\n",
        "            height_shift_range=0.1,\n",
        "            rotation_range=10,\n",
        "            zoom_range=0.1).flow(y_train, y_train, batch_size, seed=SEED)\n",
        "    while True:\n",
        "        x_batch, _ = data_generator.next()\n",
        "        y_batch, _ = mask_generator.next()\n",
        "        yield x_batch, y_batch"
      ],
      "execution_count": null,
      "outputs": []
    },
    {
      "cell_type": "markdown",
      "metadata": {
        "_cell_guid": "aac1ba7b-2427-90e0-7be6-ac83e9822861",
        "id": "mCpG4qC9saSk",
        "colab_type": "text"
      },
      "source": [
        "By using the same RNG seed in both calls to ImageDataGenerator, we should get images and masks that correspond to each other. Let's check this, to be safe."
      ]
    },
    {
      "cell_type": "code",
      "metadata": {
        "_cell_guid": "9463e130-1ec1-c808-fb01-ce807b5f35fa",
        "id": "1qrQZLQIsaSk",
        "colab_type": "code",
        "colab": {}
      },
      "source": [
        "image_batch, mask_batch = next(my_generator(x_train, y_train, 8))\n",
        "fix, ax = plt.subplots(8,2, figsize=(8,20))\n",
        "for i in range(8):\n",
        "    ax[i,0].imshow(image_batch[i,:,:,0], cmap=plt.cm.gray)\n",
        "    ax[i,1].imshow(mask_batch[i,:,:,0], cmap=plt.cm.gray)\n",
        "plt.show()"
      ],
      "execution_count": null,
      "outputs": []
    },
    {
      "cell_type": "code",
      "metadata": {
        "_cell_guid": "13f80550-086e-e3e0-234f-17b0ece1f58b",
        "id": "r6L8KIgSsaSm",
        "colab_type": "code",
        "colab": {}
      },
      "source": [
        "# 因為做二元切割，對每個pixel做binary_crossentropy\n",
        "\n",
        "model.compile(optimizer=Adam(), loss='binary_crossentropy', metrics=[dice_coef])"
      ],
      "execution_count": null,
      "outputs": []
    },
    {
      "cell_type": "code",
      "metadata": {
        "_cell_guid": "04a1d2d0-46b6-28cf-cf1d-2da3ac342cb2",
        "id": "JiKrv_vhsaSo",
        "colab_type": "code",
        "colab": {}
      },
      "source": [
        "weight_saver = ModelCheckpoint('drive/My Drive/{epoch:02d}-{val_loss:.2f}.h5', monitor='val_dice_coef')\n",
        "earlystop = EarlyStopping(monitor='val_loss', patience=3)"
      ],
      "execution_count": null,
      "outputs": []
    },
    {
      "cell_type": "code",
      "metadata": {
        "_cell_guid": "193a78f4-883e-8a16-3748-96dbc8a1ef1c",
        "id": "XyZHWEppsaSp",
        "colab_type": "code",
        "colab": {}
      },
      "source": [
        "# hist = model.fit(x_train, y_train, batch_size=8,\n",
        "#                    validation_data = (x_val, y_val),\n",
        "#                    epochs=100, verbose=1,\n",
        "#                    callbacks = [weight_saver, earlystop])\n",
        "\n",
        "# 因為用擴增，所以要用下面的訓練方式\n",
        "\n",
        "hist = model.fit_generator(my_generator(x_train, y_train, 8),\n",
        "                           steps_per_epoch = 200,\n",
        "                           validation_data = (x_val, y_val),\n",
        "                           epochs=100, verbose=1,\n",
        "                           callbacks = [weight_saver, earlystop])"
      ],
      "execution_count": null,
      "outputs": []
    },
    {
      "cell_type": "markdown",
      "metadata": {
        "_cell_guid": "f7adc85e-b87d-dc30-2a07-ec882982f13a",
        "id": "ol1NiUPxsaSr",
        "colab_type": "text"
      },
      "source": [
        "## Evaluate"
      ]
    },
    {
      "cell_type": "code",
      "metadata": {
        "_cell_guid": "58dcc781-74ea-d49b-2d6a-996057a8409a",
        "id": "L3Bq-NCysaSs",
        "colab_type": "code",
        "colab": {}
      },
      "source": [
        "model_final = load_model('/content/drive/My Drive/class/勞動部/week9/lung_ct/19-0.17.h5', custom_objects={'dice_coef': dice_coef})\n",
        "#model_final = load_model('drive/My Drive/class/北分署/week9/lung_ct/conv2dTranspose-18-0.13.h5', compile=False)"
      ],
      "execution_count": null,
      "outputs": []
    },
    {
      "cell_type": "code",
      "metadata": {
        "_cell_guid": "6b8146b4-9fdf-78e0-6e2a-9f8e0fecc18f",
        "id": "-_1wMhyasaSt",
        "colab_type": "code",
        "colab": {}
      },
      "source": [
        "plt.plot(hist.history['loss'], color='b')\n",
        "plt.plot(hist.history['val_loss'], color='r')\n",
        "plt.show()\n",
        "plt.plot(hist.history['dice_coef'], color='b')\n",
        "plt.plot(hist.history['val_dice_coef'], color='r')\n",
        "plt.show()"
      ],
      "execution_count": null,
      "outputs": []
    },
    {
      "cell_type": "code",
      "metadata": {
        "_cell_guid": "f9c5f6cb-a832-e68d-59a0-3e0a331df93b",
        "id": "9MHKRPxvsaSv",
        "colab_type": "code",
        "colab": {}
      },
      "source": [
        "idx = np.random.randint(x_val.shape[0])\n",
        "print(idx)\n",
        "img_test = x_val[idx]\n",
        "mask_pred = model_final.predict(np.expand_dims(img_test, axis=0))\n",
        "mask_pred = mask_pred.reshape((IMG_SIZE, IMG_SIZE))\n",
        "plt.imshow(mask_pred, cmap='gray')"
      ],
      "execution_count": null,
      "outputs": []
    },
    {
      "cell_type": "code",
      "metadata": {
        "_cell_guid": "42915086-30d2-4e17-863f-a4bd29b667cf",
        "id": "cMqxTrh1saSx",
        "colab_type": "code",
        "colab": {}
      },
      "source": [
        "idx = np.random.randint(x_val.shape[0])\n",
        "print(idx)\n",
        "y_hat = model_final.predict(x_val)\n",
        "fig, ax = plt.subplots(1,3,figsize=(12,6))\n",
        "ax[0].imshow(x_val[idx,:,:,0], cmap='gray')\n",
        "ax[1].imshow(y_val[idx,:,:,0])\n",
        "ax[2].imshow(y_hat[idx,:,:,0])"
      ],
      "execution_count": null,
      "outputs": []
    },
    {
      "cell_type": "markdown",
      "metadata": {
        "_cell_guid": "2c2c632d-ed5d-e43e-6e19-1b9d0cf7600e",
        "id": "-GltanrbsaS0",
        "colab_type": "text"
      },
      "source": [
        "A good result, but it probably helped that these images are very homogeneous."
      ]
    },
    {
      "cell_type": "code",
      "metadata": {
        "_cell_guid": "6b1ea203-6f3b-3c4b-aa06-972b49625207",
        "id": "MypycW64saS0",
        "colab_type": "code",
        "colab": {}
      },
      "source": [
        "# Different threshold\n",
        "idx = np.random.randint(x_val.shape[0])\n",
        "print(idx)\n",
        "# input img\n",
        "plt.imshow(x_val[idx].reshape((IMG_SIZE, IMG_SIZE)), cmap='gray')\n",
        "plt.show()\n",
        "# ground truth\n",
        "plt.imshow(y_val[idx].reshape((IMG_SIZE, IMG_SIZE)))\n",
        "plt.show()\n",
        "# prediction\n",
        "img_test = x_val[idx]\n",
        "mask_pred = model_final.predict(np.expand_dims(img_test, axis=0))\n",
        "mask_pred = mask_pred.reshape((IMG_SIZE, IMG_SIZE))\n",
        "plt.imshow(mask_pred)\n",
        "plt.show()\n",
        "# prediction with different threshold 切十等分，看哪個門檻值最好\n",
        "for i in range(1,10):\n",
        "    threshold = 0.1 * i\n",
        "    print(f'threshold: {threshold}')\n",
        "    mask_threshold = mask_pred.copy()\n",
        "    mask_threshold[mask_threshold >= threshold] = 1\n",
        "    mask_threshold[mask_threshold < threshold] = 0\n",
        "    plt.imshow(mask_threshold)\n",
        "    plt.show()\n",
        "\n",
        "# 每個pixel預測的結果是0~1的機率值，model到底是分類為0還是1\n",
        "# 依靠門檻值0.2? 0.5? 0.8\n",
        "# ROC curve"
      ],
      "execution_count": null,
      "outputs": []
    },
    {
      "cell_type": "code",
      "metadata": {
        "id": "2UbDumCr1ked",
        "colab_type": "code",
        "colab": {}
      },
      "source": [
        ""
      ],
      "execution_count": null,
      "outputs": []
    }
  ]
}