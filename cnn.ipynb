{
  "nbformat": 4,
  "nbformat_minor": 0,
  "metadata": {
    "colab": {
      "name": "cnn.ipynb",
      "provenance": [],
      "authorship_tag": "ABX9TyMn3xxwsG3Ef7Did3qPI+TB",
      "include_colab_link": true
    },
    "kernelspec": {
      "name": "python3",
      "display_name": "Python 3"
    },
    "accelerator": "GPU"
  },
  "cells": [
    {
      "cell_type": "markdown",
      "metadata": {
        "id": "view-in-github",
        "colab_type": "text"
      },
      "source": [
        "<a href=\"https://colab.research.google.com/github/Syilun/TibameAI04/blob/master/cnn.ipynb\" target=\"_parent\"><img src=\"https://colab.research.google.com/assets/colab-badge.svg\" alt=\"Open In Colab\"/></a>"
      ]
    },
    {
      "cell_type": "code",
      "metadata": {
        "id": "LFB4PfG4GhmV",
        "colab_type": "code",
        "colab": {
          "base_uri": "https://localhost:8080/",
          "height": 51
        },
        "outputId": "f72b36f3-3247-4a9c-8e0e-2dc56d276192"
      },
      "source": [
        "from tensorflow.keras.datasets.cifar10 import load_data\n",
        "(x_train, y_train), (x_test, y_test)= load_data()"
      ],
      "execution_count": 2,
      "outputs": [
        {
          "output_type": "stream",
          "text": [
            "Downloading data from https://www.cs.toronto.edu/~kriz/cifar-10-python.tar.gz\n",
            "170500096/170498071 [==============================] - 4s 0us/step\n"
          ],
          "name": "stdout"
        }
      ]
    },
    {
      "cell_type": "code",
      "metadata": {
        "id": "8s-SqwNZIkKM",
        "colab_type": "code",
        "colab": {
          "base_uri": "https://localhost:8080/",
          "height": 51
        },
        "outputId": "35bafcfc-ab47-4c0b-c613-90cef49313b5"
      },
      "source": [
        "print(x_train.shape)\n",
        "print(x_test.shape)"
      ],
      "execution_count": 3,
      "outputs": [
        {
          "output_type": "stream",
          "text": [
            "(50000, 32, 32, 3)\n",
            "(10000, 32, 32, 3)\n"
          ],
          "name": "stdout"
        }
      ]
    },
    {
      "cell_type": "code",
      "metadata": {
        "id": "KswTFlHaJlkG",
        "colab_type": "code",
        "colab": {}
      },
      "source": [
        "trans = [\n",
        "    \"airplane\",\t\t\t\t\t\t\t\t\t\t\n",
        "    \"automobile\",\t\t\t\t\t\t\t\t\t\t\n",
        "    \"bird\",\t\t\t\t\t\t\t\t\t\t\n",
        "    \"cat\",\t\t\t\t\t\t\t\t\t\t\n",
        "    \"deer\",\t\t\t\t\t\t\t\t\t\t\n",
        "    \"dog\",\t\t\t\t\t\t\t\t\t\t\n",
        "    \"frog\",\t\t\t\t\t\t\t\t\t\t\n",
        "    \"horse\",\t\t\t\t\t\t\t\t\t\t\n",
        "    \"ship\",\t\t\t\t\t\t\t\t\t\t\n",
        "    \"truck\"\n",
        "]"
      ],
      "execution_count": 4,
      "outputs": []
    },
    {
      "cell_type": "code",
      "metadata": {
        "id": "uCiYn9A-HjKu",
        "colab_type": "code",
        "colab": {
          "base_uri": "https://localhost:8080/",
          "height": 300
        },
        "outputId": "4d34299c-6417-46d7-a91f-f16565abe0d8"
      },
      "source": [
        "import random\n",
        "import matplotlib.pyplot as plt\n",
        "%matplotlib inline\n",
        "\n",
        "i = random.randint(0, 49999)\n",
        "print(trans[y_train[i][0]])\n",
        "plt.imshow(x_train[i])\n"
      ],
      "execution_count": 5,
      "outputs": [
        {
          "output_type": "stream",
          "text": [
            "dog\n"
          ],
          "name": "stdout"
        },
        {
          "output_type": "execute_result",
          "data": {
            "text/plain": [
              "<matplotlib.image.AxesImage at 0x7f80280e32e8>"
            ]
          },
          "metadata": {
            "tags": []
          },
          "execution_count": 5
        },
        {
          "output_type": "display_data",
          "data": {
            "image/png": "[encoded data removed]",
            "text/plain": [
              "<Figure size 432x288 with 1 Axes>"
            ]
          },
          "metadata": {
            "tags": [],
            "needs_background": "light"
          }
        }
      ]
    },
    {
      "cell_type": "code",
      "metadata": {
        "id": "NUBKZPjnJrMp",
        "colab_type": "code",
        "colab": {
          "base_uri": "https://localhost:8080/",
          "height": 493
        },
        "outputId": "93957f26-fe17-45a7-d001-f2373aa380f9"
      },
      "source": [
        "from tensorflow.keras.layers import Conv2D, MaxPooling2D\n",
        "from tensorflow.keras.layers import Dense, Flatten\n",
        "from tensorflow.keras.models import Sequential\n",
        "from tensorflow.keras.layers import Dropout\n",
        "\n",
        "layers = [\n",
        "          Conv2D(64, 3, padding='same', activation='relu', input_shape=(32, 32, 3)),\n",
        "          MaxPooling2D(),\n",
        "          Conv2D(128, 3, padding='same', activation='relu'),\n",
        "          MaxPooling2D(),\n",
        "          Conv2D(256, 3, padding='same', activation='relu'),\n",
        "          MaxPooling2D(),\n",
        "          Flatten(),\n",
        "          Dense(256, activation='relu'),\n",
        "          Dropout(0.25),\n",
        "          Dense(10, activation='softmax')\n",
        "]\n",
        "model = Sequential(layers)\n",
        "model.summary()\n",
        "\n",
        "# 使用時機: 預防看到不可預期的東西，看訓練與測試資料集差別的大小\n",
        "# dropout，假設機率設為1/2，代表我在訓練時要花2倍的力量去訓練，故測試時要乘上1/2"
      ],
      "execution_count": 6,
      "outputs": [
        {
          "output_type": "stream",
          "text": [
            "Model: \"sequential\"\n",
            "_________________________________________________________________\n",
            "Layer (type)                 Output Shape              Param #   \n",
            "=================================================================\n",
            "conv2d (Conv2D)              (None, 32, 32, 64)        1792      \n",
            "_________________________________________________________________\n",
            "max_pooling2d (MaxPooling2D) (None, 16, 16, 64)        0         \n",
            "_________________________________________________________________\n",
            "conv2d_1 (Conv2D)            (None, 16, 16, 128)       73856     \n",
            "_________________________________________________________________\n",
            "max_pooling2d_1 (MaxPooling2 (None, 8, 8, 128)         0         \n",
            "_________________________________________________________________\n",
            "conv2d_2 (Conv2D)            (None, 8, 8, 256)         295168    \n",
            "_________________________________________________________________\n",
            "max_pooling2d_2 (MaxPooling2 (None, 4, 4, 256)         0         \n",
            "_________________________________________________________________\n",
            "flatten (Flatten)            (None, 4096)              0         \n",
            "_________________________________________________________________\n",
            "dense (Dense)                (None, 256)               1048832   \n",
            "_________________________________________________________________\n",
            "dropout (Dropout)            (None, 256)               0         \n",
            "_________________________________________________________________\n",
            "dense_1 (Dense)              (None, 10)                2570      \n",
            "=================================================================\n",
            "Total params: 1,422,218\n",
            "Trainable params: 1,422,218\n",
            "Non-trainable params: 0\n",
            "_________________________________________________________________\n"
          ],
          "name": "stdout"
        }
      ]
    },
    {
      "cell_type": "code",
      "metadata": {
        "id": "SGqBvdVPMpSE",
        "colab_type": "code",
        "colab": {}
      },
      "source": [
        "from tensorflow.keras.losses import SparseCategoricalCrossentropy\n",
        "model.compile(loss=SparseCategoricalCrossentropy(),\n",
        "              metrics=['accuracy'])\n",
        "\n",
        "# 有SparseCategoricalCrossentropy不用做one-hot encoding，他會幫你做\n"
      ],
      "execution_count": 7,
      "outputs": []
    },
    {
      "cell_type": "code",
      "metadata": {
        "id": "3jFP445EYFYD",
        "colab_type": "code",
        "colab": {}
      },
      "source": [
        "x_train_norm = x_train / 255\n",
        "x_test_norm = x_test / 255"
      ],
      "execution_count": 8,
      "outputs": []
    },
    {
      "cell_type": "code",
      "metadata": {
        "id": "WMWOmeI0XlEz",
        "colab_type": "code",
        "colab": {
          "base_uri": "https://localhost:8080/",
          "height": 476
        },
        "outputId": "6e03ded5-c8ef-4ddd-dbc2-ad549d431f21"
      },
      "source": [
        "from tensorflow.keras.callbacks import EarlyStopping, ModelCheckpoint\n",
        "callbacks = [\n",
        "    ModelCheckpoint(\"cnn.h5\", save_best_only=True),\n",
        "    EarlyStopping(patience=5, restore_best_weights=True)       \n",
        "]\n",
        "model.fit(\n",
        "    x_train_norm, \n",
        "    y_train, \n",
        "    batch_size=200,\n",
        "    validation_split=0.1,\n",
        "    epochs=50,\n",
        "    callbacks=callbacks\n",
        "    )"
      ],
      "execution_count": 9,
      "outputs": [
        {
          "output_type": "stream",
          "text": [
            "Epoch 1/50\n",
            "225/225 [==============================] - 3s 15ms/step - loss: 1.8060 - accuracy: 0.3494 - val_loss: 1.3252 - val_accuracy: 0.5320\n",
            "Epoch 2/50\n",
            "225/225 [==============================] - 3s 14ms/step - loss: 1.2789 - accuracy: 0.5483 - val_loss: 1.2306 - val_accuracy: 0.5716\n",
            "Epoch 3/50\n",
            "225/225 [==============================] - 3s 14ms/step - loss: 1.0418 - accuracy: 0.6379 - val_loss: 0.9290 - val_accuracy: 0.6768\n",
            "Epoch 4/50\n",
            "225/225 [==============================] - 3s 14ms/step - loss: 0.8785 - accuracy: 0.6952 - val_loss: 0.8156 - val_accuracy: 0.7200\n",
            "Epoch 5/50\n",
            "225/225 [==============================] - 3s 14ms/step - loss: 0.7606 - accuracy: 0.7358 - val_loss: 0.8672 - val_accuracy: 0.7094\n",
            "Epoch 6/50\n",
            "225/225 [==============================] - 3s 14ms/step - loss: 0.6533 - accuracy: 0.7736 - val_loss: 0.7649 - val_accuracy: 0.7422\n",
            "Epoch 7/50\n",
            "225/225 [==============================] - 3s 14ms/step - loss: 0.5537 - accuracy: 0.8075 - val_loss: 0.8633 - val_accuracy: 0.7160\n",
            "Epoch 8/50\n",
            "225/225 [==============================] - 3s 14ms/step - loss: 0.4736 - accuracy: 0.8365 - val_loss: 0.6951 - val_accuracy: 0.7704\n",
            "Epoch 9/50\n",
            "225/225 [==============================] - 3s 14ms/step - loss: 0.3933 - accuracy: 0.8644 - val_loss: 0.7809 - val_accuracy: 0.7696\n",
            "Epoch 10/50\n",
            "225/225 [==============================] - 3s 14ms/step - loss: 0.3246 - accuracy: 0.8871 - val_loss: 0.8136 - val_accuracy: 0.7624\n",
            "Epoch 11/50\n",
            "225/225 [==============================] - 3s 14ms/step - loss: 0.2620 - accuracy: 0.9097 - val_loss: 0.8091 - val_accuracy: 0.7718\n",
            "Epoch 12/50\n",
            "225/225 [==============================] - 3s 14ms/step - loss: 0.2169 - accuracy: 0.9238 - val_loss: 0.9743 - val_accuracy: 0.7558\n",
            "Epoch 13/50\n",
            "225/225 [==============================] - 3s 14ms/step - loss: 0.1856 - accuracy: 0.9354 - val_loss: 0.8398 - val_accuracy: 0.7652\n"
          ],
          "name": "stdout"
        },
        {
          "output_type": "execute_result",
          "data": {
            "text/plain": [
              "<tensorflow.python.keras.callbacks.History at 0x7f7fcc14b748>"
            ]
          },
          "metadata": {
            "tags": []
          },
          "execution_count": 9
        }
      ]
    },
    {
      "cell_type": "code",
      "metadata": {
        "id": "tdMDGkORY5Ti",
        "colab_type": "code",
        "colab": {
          "base_uri": "https://localhost:8080/",
          "height": 51
        },
        "outputId": "9de73433-67d8-4800-f0f0-8e32307122a3"
      },
      "source": [
        "model.evaluate(x_test_norm, y_test)"
      ],
      "execution_count": 10,
      "outputs": [
        {
          "output_type": "stream",
          "text": [
            "313/313 [==============================] - 1s 3ms/step - loss: 0.7274 - accuracy: 0.7552\n"
          ],
          "name": "stdout"
        },
        {
          "output_type": "execute_result",
          "data": {
            "text/plain": [
              "[0.7273716926574707, 0.7552000284194946]"
            ]
          },
          "metadata": {
            "tags": []
          },
          "execution_count": 10
        }
      ]
    },
    {
      "cell_type": "code",
      "metadata": {
        "id": "JGO5koS2b668",
        "colab_type": "code",
        "colab": {}
      },
      "source": [
        ""
      ],
      "execution_count": null,
      "outputs": []
    }
  ]
}