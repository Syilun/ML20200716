{
  "nbformat": 4,
  "nbformat_minor": 0,
  "metadata": {
    "colab": {
      "name": "Homework01Chinese",
      "provenance": [],
      "mount_file_id": "1ym13sGdBPhnKcicJpRExyuaUD3nBgiyE",
      "authorship_tag": "ABX9TyOUURAp9u6BPPBGaP+00waw",
      "include_colab_link": true
    },
    "kernelspec": {
      "name": "python3",
      "display_name": "Python 3"
    }
  },
  "cells": [
    {
      "cell_type": "markdown",
      "metadata": {
        "id": "view-in-github",
        "colab_type": "text"
      },
      "source": [
        "<a href=\"https://colab.research.google.com/github/Syilun/ML20200716/blob/master/Homework01Chinese.ipynb\" target=\"_parent\"><img src=\"https://colab.research.google.com/assets/colab-badge.svg\" alt=\"Open In Colab\"/></a>"
      ]
    },
    {
      "cell_type": "code",
      "metadata": {
        "id": "qO9RRrr4pbhG",
        "colab_type": "code",
        "colab": {}
      },
      "source": [
        "# # task\n",
        "# # acuuracy\n",
        "# # confusion matrix\n",
        "# # 可以input，判斷屬於何種類別\n",
        "\n",
        "# from google.colab import drive\n",
        "# drive.mount('/content/drive')\n",
        "# # 不要解壓縮在自己的 drive裡面，會需要手動刪，要解壓縮在colab的磁碟上。\n",
        "\n",
        "# import glob\n",
        "# import os\n",
        "# import pandas as pd\n",
        "\n",
        "# # glob.glob(\"drive/my Drive/TibameML/chinese_news_trans/*\")\n",
        "# # 先搞定path\n",
        "# def getDf(targetDn):\n",
        "#   datas = {\n",
        "#       \"path\": [],\n",
        "#       \"label\": [],\n",
        "#   }\n",
        "#   trans = {\n",
        "#   }\n",
        "\n",
        "#   base = \"drive/My Drive/TibameML\"\n",
        "#   p = os.path.join(base, targetDn, \"*\")\n",
        "#   # 先準備檔名\n",
        "#   for dn in glob.glob(p): # 為了多給出index 所以加enumerate()\n",
        "#     name = os.path.split(dn)[-1] # 用os.path.split 而不是string split 因為\n",
        "#     fn = os.path.join(dn, \"*.[tT][xX][tT]\") # [tT]=select one either t or T\n",
        "#     fns = glob.glob(fn)\n",
        "#     datas['label'] = datas['label'] + [name] * len(fns)\n",
        "#     datas['path'] = datas['path'] + fns\n",
        "#   return pd.DataFrame(datas)"
      ],
      "execution_count": null,
      "outputs": []
    },
    {
      "cell_type": "code",
      "metadata": {
        "id": "WlTnot2EzKBh",
        "colab_type": "code",
        "colab": {}
      },
      "source": [
        "# 大型資料，先壓縮zip再上傳到drive\n",
        "\n",
        "# 作業系統的解壓縮跟python的解壓縮，以下介紹python。ZipFile\n",
        "\n",
        "import zipfile\n",
        "file = zipfile.ZipFile('drive/My Drive/TibameML/chinese_news_trans.zip')\n",
        "file.extractall('train') # 千萬不要儲存在自己drive裡面!\n",
        "file = zipfile.ZipFile('drive/My Drive/TibameML/chinese_news_test.zip')\n",
        "file.extractall('test')"
      ],
      "execution_count": null,
      "outputs": []
    },
    {
      "cell_type": "code",
      "metadata": {
        "id": "5qtU-Hc3y9RU",
        "colab_type": "code",
        "colab": {
          "base_uri": "https://localhost:8080/",
          "height": 122
        },
        "outputId": "a656a185-d8c8-4b43-a7b4-cdbe395e0898"
      },
      "source": [
        "# task\n",
        "# acuuracy\n",
        "# confusion matrix\n",
        "# 可以input，判斷屬於何種類別\n",
        "\n",
        "from google.colab import drive\n",
        "drive.mount('/content/drive', force_remount=True)\n",
        "# 不要解壓縮在自己的 drive裡面，會需要手動刪，要解壓縮在colab的磁碟上。\n",
        "\n",
        "import glob\n",
        "import os\n",
        "import pandas as pd\n",
        "\n",
        "# glob.glob(\"drive/my Drive/TibameML/chinese_news_trans/*\")\n",
        "# 先搞定path\n",
        "def getDf(targetDn):\n",
        "  datas = {\n",
        "      \"path\": [],\n",
        "      \"label\": [],\n",
        "  }\n",
        "  trans = {\n",
        "  }\n",
        "\n",
        "  base = \"\"\n",
        "  p = os.path.join(base, targetDn, \"*\")\n",
        "  # 先準備檔名\n",
        "  for dn in glob.glob(p): # 為了多給出index 所以加enumerate()\n",
        "    name = os.path.split(dn)[-1] # 用os.path.split 而不是string split 因為\n",
        "    fn = os.path.join(dn, \"*.[tT][xX][tT]\") # [tT]=select one either t or T\n",
        "    fns = glob.glob(fn)\n",
        "    datas['label'] = datas['label'] + [name] * len(fns)\n",
        "    datas['path'] = datas['path'] + fns\n",
        "  return pd.DataFrame(datas)"
      ],
      "execution_count": null,
      "outputs": [
        {
          "output_type": "stream",
          "text": [
            "Go to this URL in a browser: https://accounts.google.com/o/oauth2/auth?client_id=947318989803-6bn6qk8qdgf4n4g3pfee6491hc0brc4i.apps.googleusercontent.com&redirect_uri=urn%3aietf%3awg%3aoauth%3a2.0%3aoob&response_type=code&scope=email%20https%3a%2f%2fwww.googleapis.com%2fauth%2fdocs.test%20https%3a%2f%2fwww.googleapis.com%2fauth%2fdrive%20https%3a%2f%2fwww.googleapis.com%2fauth%2fdrive.photos.readonly%20https%3a%2f%2fwww.googleapis.com%2fauth%2fpeopleapi.readonly\n",
            "\n",
            "Enter your authorization code:\n",
            "··········\n",
            "Mounted at /content/drive\n"
          ],
          "name": "stdout"
        }
      ]
    },
    {
      "cell_type": "code",
      "metadata": {
        "id": "VD6_zwK2qCJc",
        "colab_type": "code",
        "colab": {}
      },
      "source": [
        "train_df = getDf('train/chinese_news_trans')\n",
        "test_df = getDf('test/chinese_news_test')"
      ],
      "execution_count": null,
      "outputs": []
    },
    {
      "cell_type": "code",
      "metadata": {
        "id": "RWwqZcr-uF6M",
        "colab_type": "code",
        "colab": {
          "base_uri": "https://localhost:8080/",
          "height": 419
        },
        "outputId": "e33618f2-1266-400e-97a8-90d35f069c63"
      },
      "source": [
        "test_df"
      ],
      "execution_count": null,
      "outputs": [
        {
          "output_type": "execute_result",
          "data": {
            "text/html": [
              "<div>\n",
              "<style scoped>\n",
              "    .dataframe tbody tr th:only-of-type {\n",
              "        vertical-align: middle;\n",
              "    }\n",
              "\n",
              "    .dataframe tbody tr th {\n",
              "        vertical-align: top;\n",
              "    }\n",
              "\n",
              "    .dataframe thead th {\n",
              "        text-align: right;\n",
              "    }\n",
              "</style>\n",
              "<table border=\"1\" class=\"dataframe\">\n",
              "  <thead>\n",
              "    <tr style=\"text-align: right;\">\n",
              "      <th></th>\n",
              "      <th>path</th>\n",
              "      <th>label</th>\n",
              "    </tr>\n",
              "  </thead>\n",
              "  <tbody>\n",
              "    <tr>\n",
              "      <th>0</th>\n",
              "      <td>test/chinese_news_test/軍事/8240.txt</td>\n",
              "      <td>軍事</td>\n",
              "    </tr>\n",
              "    <tr>\n",
              "      <th>1</th>\n",
              "      <td>test/chinese_news_test/軍事/8249.txt</td>\n",
              "      <td>軍事</td>\n",
              "    </tr>\n",
              "    <tr>\n",
              "      <th>2</th>\n",
              "      <td>test/chinese_news_test/軍事/8245.txt</td>\n",
              "      <td>軍事</td>\n",
              "    </tr>\n",
              "    <tr>\n",
              "      <th>3</th>\n",
              "      <td>test/chinese_news_test/軍事/8244.txt</td>\n",
              "      <td>軍事</td>\n",
              "    </tr>\n",
              "    <tr>\n",
              "      <th>4</th>\n",
              "      <td>test/chinese_news_test/軍事/8247.txt</td>\n",
              "      <td>軍事</td>\n",
              "    </tr>\n",
              "    <tr>\n",
              "      <th>...</th>\n",
              "      <td>...</td>\n",
              "      <td>...</td>\n",
              "    </tr>\n",
              "    <tr>\n",
              "      <th>96</th>\n",
              "      <td>test/chinese_news_test/政治/9505.TXT</td>\n",
              "      <td>政治</td>\n",
              "    </tr>\n",
              "    <tr>\n",
              "      <th>97</th>\n",
              "      <td>test/chinese_news_test/政治/9501.TXT</td>\n",
              "      <td>政治</td>\n",
              "    </tr>\n",
              "    <tr>\n",
              "      <th>98</th>\n",
              "      <td>test/chinese_news_test/政治/9500.TXT</td>\n",
              "      <td>政治</td>\n",
              "    </tr>\n",
              "    <tr>\n",
              "      <th>99</th>\n",
              "      <td>test/chinese_news_test/政治/9497.TXT</td>\n",
              "      <td>政治</td>\n",
              "    </tr>\n",
              "    <tr>\n",
              "      <th>100</th>\n",
              "      <td>test/chinese_news_test/政治/9503.TXT</td>\n",
              "      <td>政治</td>\n",
              "    </tr>\n",
              "  </tbody>\n",
              "</table>\n",
              "<p>101 rows × 2 columns</p>\n",
              "</div>"
            ],
            "text/plain": [
              "                                   path label\n",
              "0    test/chinese_news_test/軍事/8240.txt    軍事\n",
              "1    test/chinese_news_test/軍事/8249.txt    軍事\n",
              "2    test/chinese_news_test/軍事/8245.txt    軍事\n",
              "3    test/chinese_news_test/軍事/8244.txt    軍事\n",
              "4    test/chinese_news_test/軍事/8247.txt    軍事\n",
              "..                                  ...   ...\n",
              "96   test/chinese_news_test/政治/9505.TXT    政治\n",
              "97   test/chinese_news_test/政治/9501.TXT    政治\n",
              "98   test/chinese_news_test/政治/9500.TXT    政治\n",
              "99   test/chinese_news_test/政治/9497.TXT    政治\n",
              "100  test/chinese_news_test/政治/9503.TXT    政治\n",
              "\n",
              "[101 rows x 2 columns]"
            ]
          },
          "metadata": {
            "tags": []
          },
          "execution_count": 11
        }
      ]
    },
    {
      "cell_type": "code",
      "metadata": {
        "id": "JIb-PkuHuG7V",
        "colab_type": "code",
        "colab": {}
      },
      "source": [
        "def read_content(fn):\n",
        "  with open(fn, 'r', encoding='utf8') as file:\n",
        "    content = file.read()\n",
        "  return content\n",
        "\n",
        "train_df['content'] = train_df['path'].apply(read_content)\n",
        "test_df['content'] = test_df['path'].apply(read_content)\n"
      ],
      "execution_count": null,
      "outputs": []
    },
    {
      "cell_type": "code",
      "metadata": {
        "id": "PEHtWFdXwN6T",
        "colab_type": "code",
        "colab": {
          "base_uri": "https://localhost:8080/",
          "height": 419
        },
        "outputId": "9be47482-d9be-4eb5-b69e-43ff54239fbc"
      },
      "source": [
        "test_df"
      ],
      "execution_count": 13,
      "outputs": [
        {
          "output_type": "execute_result",
          "data": {
            "text/html": [
              "<div>\n",
              "<style scoped>\n",
              "    .dataframe tbody tr th:only-of-type {\n",
              "        vertical-align: middle;\n",
              "    }\n",
              "\n",
              "    .dataframe tbody tr th {\n",
              "        vertical-align: top;\n",
              "    }\n",
              "\n",
              "    .dataframe thead th {\n",
              "        text-align: right;\n",
              "    }\n",
              "</style>\n",
              "<table border=\"1\" class=\"dataframe\">\n",
              "  <thead>\n",
              "    <tr style=\"text-align: right;\">\n",
              "      <th></th>\n",
              "      <th>path</th>\n",
              "      <th>label</th>\n",
              "      <th>content</th>\n",
              "    </tr>\n",
              "  </thead>\n",
              "  <tbody>\n",
              "    <tr>\n",
              "      <th>0</th>\n",
              "      <td>test/chinese_news_test/軍事/8240.txt</td>\n",
              "      <td>軍事</td>\n",
              "      <td>美海軍成功演示飛機在空中控制無人機(附圖) \\n\\n--------------------...</td>\n",
              "    </tr>\n",
              "    <tr>\n",
              "      <th>1</th>\n",
              "      <td>test/chinese_news_test/軍事/8249.txt</td>\n",
              "      <td>軍事</td>\n",
              "      <td>\\n軍事評論：“巴格達之戰”考驗美軍巷戰武器裝備(2) \\n\\n--------------...</td>\n",
              "    </tr>\n",
              "    <tr>\n",
              "      <th>2</th>\n",
              "      <td>test/chinese_news_test/軍事/8245.txt</td>\n",
              "      <td>軍事</td>\n",
              "      <td>軍事評論：美英聯軍地面作戰裝備特點分析(2) \\n\\n-------------------...</td>\n",
              "    </tr>\n",
              "    <tr>\n",
              "      <th>3</th>\n",
              "      <td>test/chinese_news_test/軍事/8244.txt</td>\n",
              "      <td>軍事</td>\n",
              "      <td>在伊拉克戰爭中使用的空襲精確制導彈藥(1) \\n\\n--------------------...</td>\n",
              "    </tr>\n",
              "    <tr>\n",
              "      <th>4</th>\n",
              "      <td>test/chinese_news_test/軍事/8247.txt</td>\n",
              "      <td>軍事</td>\n",
              "      <td>軍事評論：從巷戰或地道戰看單兵夜視裝備的發展 \\n\\n-------------------...</td>\n",
              "    </tr>\n",
              "    <tr>\n",
              "      <th>...</th>\n",
              "      <td>...</td>\n",
              "      <td>...</td>\n",
              "      <td>...</td>\n",
              "    </tr>\n",
              "    <tr>\n",
              "      <th>96</th>\n",
              "      <td>test/chinese_news_test/政治/9505.TXT</td>\n",
              "      <td>政治</td>\n",
              "      <td>楊主席提出促進中拉關係的５項建議\\n新華社蒙得維的亞５月２３日電正在這...</td>\n",
              "    </tr>\n",
              "    <tr>\n",
              "      <th>97</th>\n",
              "      <td>test/chinese_news_test/政治/9501.TXT</td>\n",
              "      <td>政治</td>\n",
              "      <td>阿拉伯外長會議閉幕\\n新華社巴格達５月２４日電為期２天的阿拉伯外長會\\...</td>\n",
              "    </tr>\n",
              "    <tr>\n",
              "      <th>98</th>\n",
              "      <td>test/chinese_news_test/政治/9500.TXT</td>\n",
              "      <td>政治</td>\n",
              "      <td>外事簡訊\\n新華社北京５月２４日電外事簡訊\\n    全國人大常委會副...</td>\n",
              "    </tr>\n",
              "    <tr>\n",
              "      <th>99</th>\n",
              "      <td>test/chinese_news_test/政治/9497.TXT</td>\n",
              "      <td>政治</td>\n",
              "      <td>第３次安第斯集團首腦會議閉幕\\n新華社庫斯科（祕魯）５月２３日電第３次...</td>\n",
              "    </tr>\n",
              "    <tr>\n",
              "      <th>100</th>\n",
              "      <td>test/chinese_news_test/政治/9503.TXT</td>\n",
              "      <td>政治</td>\n",
              "      <td>ＡＡ０５５\\n金日成指出朝鮮北方堅持以聯邦制統一國家\\n    (4)內容: ...</td>\n",
              "    </tr>\n",
              "  </tbody>\n",
              "</table>\n",
              "<p>101 rows × 3 columns</p>\n",
              "</div>"
            ],
            "text/plain": [
              "                                   path  ...                                            content\n",
              "0    test/chinese_news_test/軍事/8240.txt  ...  美海軍成功演示飛機在空中控制無人機(附圖) \\n\\n--------------------...\n",
              "1    test/chinese_news_test/軍事/8249.txt  ...  \\n軍事評論：“巴格達之戰”考驗美軍巷戰武器裝備(2) \\n\\n--------------...\n",
              "2    test/chinese_news_test/軍事/8245.txt  ...  軍事評論：美英聯軍地面作戰裝備特點分析(2) \\n\\n-------------------...\n",
              "3    test/chinese_news_test/軍事/8244.txt  ...  在伊拉克戰爭中使用的空襲精確制導彈藥(1) \\n\\n--------------------...\n",
              "4    test/chinese_news_test/軍事/8247.txt  ...  軍事評論：從巷戰或地道戰看單兵夜視裝備的發展 \\n\\n-------------------...\n",
              "..                                  ...  ...                                                ...\n",
              "96   test/chinese_news_test/政治/9505.TXT  ...             楊主席提出促進中拉關係的５項建議\\n新華社蒙得維的亞５月２３日電正在這...\n",
              "97   test/chinese_news_test/政治/9501.TXT  ...             阿拉伯外長會議閉幕\\n新華社巴格達５月２４日電為期２天的阿拉伯外長會\\...\n",
              "98   test/chinese_news_test/政治/9500.TXT  ...             外事簡訊\\n新華社北京５月２４日電外事簡訊\\n    全國人大常委會副...\n",
              "99   test/chinese_news_test/政治/9497.TXT  ...             第３次安第斯集團首腦會議閉幕\\n新華社庫斯科（祕魯）５月２３日電第３次...\n",
              "100  test/chinese_news_test/政治/9503.TXT  ...         ＡＡ０５５\\n金日成指出朝鮮北方堅持以聯邦制統一國家\\n    (4)內容: ...\n",
              "\n",
              "[101 rows x 3 columns]"
            ]
          },
          "metadata": {
            "tags": []
          },
          "execution_count": 13
        }
      ]
    },
    {
      "cell_type": "code",
      "metadata": {
        "id": "nXhaYfeQuqs1",
        "colab_type": "code",
        "colab": {
          "base_uri": "https://localhost:8080/",
          "height": 419
        },
        "outputId": "69a860b2-7d36-4b47-c48a-2fc2831f6d3c"
      },
      "source": [
        "train_df"
      ],
      "execution_count": 14,
      "outputs": [
        {
          "output_type": "execute_result",
          "data": {
            "text/html": [
              "<div>\n",
              "<style scoped>\n",
              "    .dataframe tbody tr th:only-of-type {\n",
              "        vertical-align: middle;\n",
              "    }\n",
              "\n",
              "    .dataframe tbody tr th {\n",
              "        vertical-align: top;\n",
              "    }\n",
              "\n",
              "    .dataframe thead th {\n",
              "        text-align: right;\n",
              "    }\n",
              "</style>\n",
              "<table border=\"1\" class=\"dataframe\">\n",
              "  <thead>\n",
              "    <tr style=\"text-align: right;\">\n",
              "      <th></th>\n",
              "      <th>path</th>\n",
              "      <th>label</th>\n",
              "      <th>content</th>\n",
              "    </tr>\n",
              "  </thead>\n",
              "  <tbody>\n",
              "    <tr>\n",
              "      <th>0</th>\n",
              "      <td>train/chinese_news_trans/軍事/813.TXT</td>\n",
              "      <td>軍事</td>\n",
              "      <td>古巴宣佈舉行軍事演習\\n新華社哈瓦那５月１日電古巴革命武裝部今晚發表公...</td>\n",
              "    </tr>\n",
              "    <tr>\n",
              "      <th>1</th>\n",
              "      <td>train/chinese_news_trans/軍事/8223.txt</td>\n",
              "      <td>軍事</td>\n",
              "      <td>\\n美國空軍改進B-1B轟炸機的電子戰系統(附圖) \\n\\n----------------...</td>\n",
              "    </tr>\n",
              "    <tr>\n",
              "      <th>2</th>\n",
              "      <td>train/chinese_news_trans/軍事/8123.TXT</td>\n",
              "      <td>軍事</td>\n",
              "      <td>１枚導彈致１２０名阿富汗人傷亡\\n新華社伊斯蘭堡５月２２日電阿富汗游擊...</td>\n",
              "    </tr>\n",
              "    <tr>\n",
              "      <th>3</th>\n",
              "      <td>train/chinese_news_trans/軍事/871.TXT</td>\n",
              "      <td>軍事</td>\n",
              "      <td>馬達加斯加發生軍事政變\\n新華社塔那那利佛５月１３日電據馬達加斯加電臺...</td>\n",
              "    </tr>\n",
              "    <tr>\n",
              "      <th>4</th>\n",
              "      <td>train/chinese_news_trans/軍事/889.TXT</td>\n",
              "      <td>軍事</td>\n",
              "      <td>緬甸取消部份地區軍事管制\\n新華社仰光５月１５日電據緬甸之聲電臺報道，...</td>\n",
              "    </tr>\n",
              "    <tr>\n",
              "      <th>...</th>\n",
              "      <td>...</td>\n",
              "      <td>...</td>\n",
              "      <td>...</td>\n",
              "    </tr>\n",
              "    <tr>\n",
              "      <th>2632</th>\n",
              "      <td>train/chinese_news_trans/政治/954.TXT</td>\n",
              "      <td>政治</td>\n",
              "      <td>李鵬同奧其爾巴特舉行會談\\n新華社北京５月４日電（記者楊子迪）國務院總...</td>\n",
              "    </tr>\n",
              "    <tr>\n",
              "      <th>2633</th>\n",
              "      <td>train/chinese_news_trans/政治/9463.TXT</td>\n",
              "      <td>政治</td>\n",
              "      <td>多米尼加共和國中止大選計票工作\\n新華社北京５月２１日電聖多明各消息：...</td>\n",
              "    </tr>\n",
              "    <tr>\n",
              "      <th>2634</th>\n",
              "      <td>train/chinese_news_trans/政治/9195.TXT</td>\n",
              "      <td>政治</td>\n",
              "      <td>泰國公主瓦塔娜離泰訪華\\n新華社曼谷５月１０日電泰國公主甘拉亞妮·瓦塔...</td>\n",
              "    </tr>\n",
              "    <tr>\n",
              "      <th>2635</th>\n",
              "      <td>train/chinese_news_trans/政治/9444.TXT</td>\n",
              "      <td>政治</td>\n",
              "      <td>伊駐英使館稱收到裝有電子元件的匿名信\\n新華社倫敦５月２１日電（記者王...</td>\n",
              "    </tr>\n",
              "    <tr>\n",
              "      <th>2636</th>\n",
              "      <td>train/chinese_news_trans/政治/9352.TXT</td>\n",
              "      <td>政治</td>\n",
              "      <td>法共召開中央全會\\n新華社巴黎５月１５日電法國共產黨中央委員會全體\\n...</td>\n",
              "    </tr>\n",
              "  </tbody>\n",
              "</table>\n",
              "<p>2637 rows × 3 columns</p>\n",
              "</div>"
            ],
            "text/plain": [
              "                                      path  ...                                            content\n",
              "0      train/chinese_news_trans/軍事/813.TXT  ...             古巴宣佈舉行軍事演習\\n新華社哈瓦那５月１日電古巴革命武裝部今晚發表公...\n",
              "1     train/chinese_news_trans/軍事/8223.txt  ...  \\n美國空軍改進B-1B轟炸機的電子戰系統(附圖) \\n\\n----------------...\n",
              "2     train/chinese_news_trans/軍事/8123.TXT  ...             １枚導彈致１２０名阿富汗人傷亡\\n新華社伊斯蘭堡５月２２日電阿富汗游擊...\n",
              "3      train/chinese_news_trans/軍事/871.TXT  ...             馬達加斯加發生軍事政變\\n新華社塔那那利佛５月１３日電據馬達加斯加電臺...\n",
              "4      train/chinese_news_trans/軍事/889.TXT  ...             緬甸取消部份地區軍事管制\\n新華社仰光５月１５日電據緬甸之聲電臺報道，...\n",
              "...                                    ...  ...                                                ...\n",
              "2632   train/chinese_news_trans/政治/954.TXT  ...             李鵬同奧其爾巴特舉行會談\\n新華社北京５月４日電（記者楊子迪）國務院總...\n",
              "2633  train/chinese_news_trans/政治/9463.TXT  ...             多米尼加共和國中止大選計票工作\\n新華社北京５月２１日電聖多明各消息：...\n",
              "2634  train/chinese_news_trans/政治/9195.TXT  ...             泰國公主瓦塔娜離泰訪華\\n新華社曼谷５月１０日電泰國公主甘拉亞妮·瓦塔...\n",
              "2635  train/chinese_news_trans/政治/9444.TXT  ...             伊駐英使館稱收到裝有電子元件的匿名信\\n新華社倫敦５月２１日電（記者王...\n",
              "2636  train/chinese_news_trans/政治/9352.TXT  ...             法共召開中央全會\\n新華社巴黎５月１５日電法國共產黨中央委員會全體\\n...\n",
              "\n",
              "[2637 rows x 3 columns]"
            ]
          },
          "metadata": {
            "tags": []
          },
          "execution_count": 14
        }
      ]
    },
    {
      "cell_type": "code",
      "metadata": {
        "id": "pl2vWovw1hJu",
        "colab_type": "code",
        "colab": {}
      },
      "source": [
        "u = train_df['label'].unique()\n",
        "\n",
        "trans = {n:i for i, n in enumerate(u)} # 轉換\n",
        "trans_r = {i:n for i, n in enumerate(u)} # 反轉換\n",
        "y_train = train_df['label'].replace(trans)\n",
        "y_test = test_df['label'].replace(trans)"
      ],
      "execution_count": 19,
      "outputs": []
    },
    {
      "cell_type": "code",
      "metadata": {
        "id": "3YqB8X314iAs",
        "colab_type": "code",
        "colab": {
          "base_uri": "https://localhost:8080/",
          "height": 221
        },
        "outputId": "02a96297-a89f-41dc-a07e-e533bf6df747"
      },
      "source": [
        "y_test"
      ],
      "execution_count": 45,
      "outputs": [
        {
          "output_type": "execute_result",
          "data": {
            "text/plain": [
              "0      0\n",
              "1      0\n",
              "2      0\n",
              "3      0\n",
              "4      0\n",
              "      ..\n",
              "96     9\n",
              "97     9\n",
              "98     9\n",
              "99     9\n",
              "100    9\n",
              "Name: label, Length: 101, dtype: int64"
            ]
          },
          "metadata": {
            "tags": []
          },
          "execution_count": 45
        }
      ]
    },
    {
      "cell_type": "code",
      "metadata": {
        "id": "wuLnP4tT1tut",
        "colab_type": "code",
        "colab": {
          "base_uri": "https://localhost:8080/",
          "height": 171
        },
        "outputId": "33c1cfff-593f-4366-ffa3-a9ae06d2fd0e"
      },
      "source": [
        "import jieba\n",
        "from urllib.request import urlretrieve\n",
        "url = 'https://github.com/fxsjy/jieba/raw/master/extra_dict/dict.txt.big'\n",
        "urlretrieve(url, 'dict.txt.big')\n",
        "jieba.set_dictionary('dict.txt.big')\n",
        "\n",
        "p = train_df.iloc[0]['content']\n",
        "' '.join(jieba.cut(p))"
      ],
      "execution_count": 46,
      "outputs": [
        {
          "output_type": "stream",
          "text": [
            "Building prefix dict from /content/dict.txt.big ...\n",
            "Dumping model to file cache /tmp/jieba.u501edca284da514cb68b53a20324f4e3.cache\n",
            "Loading model cost 1.651 seconds.\n",
            "Prefix dict has been built successfully.\n"
          ],
          "name": "stderr"
        },
        {
          "output_type": "execute_result",
          "data": {
            "application/vnd.google.colaboratory.intrinsic+json": {
              "type": "string"
            },
            "text/plain": [
              "'                      古巴 宣佈 舉行 軍事演習 \\n 新華社 哈瓦那 ５ 月 １ 日電 古巴 革命 武裝部 今晚 發表 公 \\n                           報 宣佈 ， 古巴 將從 ５ 月 ２ 日起 舉行 軍事演習 ， 以 對抗 美國 \\n                           舉行 的 針對 古巴 的 大規模 軍事演習 。 \\n                                   公報 說 ， 參加 這次 代號 為 “ 古巴 之盾 ” 軍事演習 的 ， \\n                           除了 古巴 正規部隊 之外 ， 還有 民兵 。 \\n                                   據 古巴 革命 武裝部 ４ 月 ２ ９ 日 揭露 ， 美國 從 ５ 月 １ 日 \\n                           至 ５ 日 在 鄰近 古巴 領海 的 水域 同時 舉行 “ 海洋 冒險 ” 等 ３ \\n                           個 軍事演習 。 參加 演習 的 美軍 有 第 ８ ２ 空降師 ， 第 １ ０ １ \\n                           空襲 師和 第 ２ ４ 機械化 步兵師 ， 數百架 戰鬥機 和 轟炸機 ， \\n                           以及 許多 戰艦 。 \\n                                   另據 古巴 官方消息 說 ， 美國 ４ 月 ３ ０ 日 又 向 它 霸佔 的 \\n                           古巴 關塔那摩 海軍基地 增派 了 艦艇 ， 使 在 關塔那摩 海軍 基 \\n                           地 的 美國軍艦 達到 １ ２ 艘 。 （ 完 ） \\n \\n'"
            ]
          },
          "metadata": {
            "tags": []
          },
          "execution_count": 46
        }
      ]
    },
    {
      "cell_type": "code",
      "metadata": {
        "id": "4V99wjLw2cId",
        "colab_type": "code",
        "colab": {
          "base_uri": "https://localhost:8080/",
          "height": 221
        },
        "outputId": "8758fd33-f965-44f0-a4d3-74647edf8351"
      },
      "source": [
        "def newscut(p):\n",
        "  return ' '.join(jieba.cut(p))\n",
        "\n",
        "x_train = train_df['content'].apply(newscut)\n",
        "x_test = test_df['content'].apply(newscut)\n",
        "x_test"
      ],
      "execution_count": 55,
      "outputs": [
        {
          "output_type": "execute_result",
          "data": {
            "text/plain": [
              "0      美海軍 成功 演示 飛機 在 空中 控制 無人機 ( 附圖 )   \\n \\n ------...\n",
              "1      \\n 軍事 評論 ： “ 巴格達 之戰 ” 考驗 美軍 巷戰 武器裝備 ( 2 )   \\n...\n",
              "2      軍事 評論 ： 美英 聯軍 地面 作戰 裝備 特點 分析 ( 2 )   \\n \\n ---...\n",
              "3      在 伊拉克 戰爭 中 使用 的 空襲 精確 制導 彈藥 ( 1 )   \\n \\n ----...\n",
              "4      軍事 評論 ： 從 巷戰 或 地道戰 看 單兵 夜視 裝備 的 發展   \\n \\n ---...\n",
              "                             ...                        \n",
              "96                           楊 主席 提出 促進 中 拉關係 的 ５ 項 建...\n",
              "97                           阿拉伯 外長 會議 閉幕 \\n 新華社 巴格達 ...\n",
              "98                           外事 簡訊 \\n 新華社 北京 ５ 月 ２ ４ ...\n",
              "99                           第 ３ 次 安第斯集團 首腦會議 閉幕 \\n 新...\n",
              "100                  Ａ Ａ ０ ５ ５ \\n 金日成 指出 朝鮮 北方 堅持 以 聯...\n",
              "Name: content, Length: 101, dtype: object"
            ]
          },
          "metadata": {
            "tags": []
          },
          "execution_count": 55
        }
      ]
    },
    {
      "cell_type": "code",
      "metadata": {
        "id": "40USU0cw5LDa",
        "colab_type": "code",
        "colab": {
          "base_uri": "https://localhost:8080/",
          "height": 221
        },
        "outputId": "788b27fe-8727-47bd-a5ec-fe14b0194871"
      },
      "source": [
        "x_train"
      ],
      "execution_count": 42,
      "outputs": [
        {
          "output_type": "execute_result",
          "data": {
            "text/plain": [
              "0                             古巴 宣 佈 舉行 軍事 演習 \\n 新華社 哈...\n",
              "1       \\n 美國空 軍 改進 B - 1B 轟炸機 的 電子 戰系統 ( 附圖 )   \\n \\n...\n",
              "2                             １ 枚 導彈致 １ ２ ０ 名 阿富汗人 傷亡 ...\n",
              "3                             馬 達 加斯 加發生 軍事政變 \\n 新華社 塔...\n",
              "4                             緬甸 取消 部份 地區 軍事 管制 \\n 新華社...\n",
              "                              ...                        \n",
              "2632                          李鵬同 奧其爾 巴特 舉行會 談 \\n 新華社 ...\n",
              "2633                          多米尼加 共和 國 中止 大選計票 工作 \\n ...\n",
              "2634                          泰國 公主 瓦塔娜 離泰訪華 \\n 新華社 曼谷...\n",
              "2635                          伊駐 英 使館 稱 收到 裝有 電子 元件 的 ...\n",
              "2636                          法共 召開 中央 全會 \\n 新華社 巴黎 ５ ...\n",
              "Name: content, Length: 2637, dtype: object"
            ]
          },
          "metadata": {
            "tags": []
          },
          "execution_count": 42
        }
      ]
    },
    {
      "cell_type": "code",
      "metadata": {
        "id": "VJJdlpCS2eN7",
        "colab_type": "code",
        "colab": {}
      },
      "source": [
        "from sklearn.feature_extraction.text import CountVectorizer\n",
        "vec = CountVectorizer()\n",
        "x_train_count = vec.fit_transform(x_train)\n",
        "x_test_count = vec.transform(x_test)\n"
      ],
      "execution_count": 28,
      "outputs": []
    },
    {
      "cell_type": "code",
      "metadata": {
        "id": "6zgHLPU_3Z9N",
        "colab_type": "code",
        "colab": {
          "base_uri": "https://localhost:8080/",
          "height": 165
        },
        "outputId": "1430a60b-edca-409b-bf41-d43d11d1eb37"
      },
      "source": [
        "vec.vocabulary_['\\n']"
      ],
      "execution_count": 56,
      "outputs": [
        {
          "output_type": "error",
          "ename": "KeyError",
          "evalue": "ignored",
          "traceback": [
            "\u001b[0;31m---------------------------------------------------------------------------\u001b[0m",
            "\u001b[0;31mKeyError\u001b[0m                                  Traceback (most recent call last)",
            "\u001b[0;32m<ipython-input-56-a0f8cd99f219>\u001b[0m in \u001b[0;36m<module>\u001b[0;34m()\u001b[0m\n\u001b[0;32m----> 1\u001b[0;31m \u001b[0mvec\u001b[0m\u001b[0;34m.\u001b[0m\u001b[0mvocabulary_\u001b[0m\u001b[0;34m[\u001b[0m\u001b[0;34m'\\n'\u001b[0m\u001b[0;34m]\u001b[0m\u001b[0;34m\u001b[0m\u001b[0;34m\u001b[0m\u001b[0m\n\u001b[0m",
            "\u001b[0;31mKeyError\u001b[0m: '\\n'"
          ]
        }
      ]
    },
    {
      "cell_type": "code",
      "metadata": {
        "id": "7nq6EUfh3cm6",
        "colab_type": "code",
        "colab": {
          "base_uri": "https://localhost:8080/",
          "height": 34
        },
        "outputId": "2a918de3-387e-4266-f018-3de2e057f61d"
      },
      "source": [
        "from sklearn.naive_bayes import MultinomialNB # 多項式機率，ex. 骰骰子\n",
        "clf = MultinomialNB()\n",
        "clf.fit(x_train_count, y_train)"
      ],
      "execution_count": 57,
      "outputs": [
        {
          "output_type": "execute_result",
          "data": {
            "text/plain": [
              "MultinomialNB(alpha=1.0, class_prior=None, fit_prior=True)"
            ]
          },
          "metadata": {
            "tags": []
          },
          "execution_count": 57
        }
      ]
    },
    {
      "cell_type": "code",
      "metadata": {
        "id": "ffJpGX7S3wTg",
        "colab_type": "code",
        "colab": {
          "base_uri": "https://localhost:8080/",
          "height": 34
        },
        "outputId": "10e51022-0e2a-4b7d-9e39-f8f6419db913"
      },
      "source": [
        "from sklearn.metrics import accuracy_score\n",
        "pre = clf.predict(x_test_count)\n",
        "accuracy_score(pre, y_test)"
      ],
      "execution_count": 58,
      "outputs": [
        {
          "output_type": "execute_result",
          "data": {
            "text/plain": [
              "1.0"
            ]
          },
          "metadata": {
            "tags": []
          },
          "execution_count": 58
        }
      ]
    },
    {
      "cell_type": "code",
      "metadata": {
        "id": "dEJyc4EY3yzJ",
        "colab_type": "code",
        "colab": {
          "base_uri": "https://localhost:8080/",
          "height": 359
        },
        "outputId": "deae4ffb-b23c-4eb0-8243-5324df5a13dc"
      },
      "source": [
        "from sklearn.metrics import confusion_matrix\n",
        "mat = confusion_matrix(y_test, pre)\n",
        "pd.DataFrame(mat, columns=[n+'(預測)' for n in u], index=[n+'(真實)' for n in u])"
      ],
      "execution_count": 59,
      "outputs": [
        {
          "output_type": "execute_result",
          "data": {
            "text/html": [
              "<div>\n",
              "<style scoped>\n",
              "    .dataframe tbody tr th:only-of-type {\n",
              "        vertical-align: middle;\n",
              "    }\n",
              "\n",
              "    .dataframe tbody tr th {\n",
              "        vertical-align: top;\n",
              "    }\n",
              "\n",
              "    .dataframe thead th {\n",
              "        text-align: right;\n",
              "    }\n",
              "</style>\n",
              "<table border=\"1\" class=\"dataframe\">\n",
              "  <thead>\n",
              "    <tr style=\"text-align: right;\">\n",
              "      <th></th>\n",
              "      <th>軍事(預測)</th>\n",
              "      <th>交通(預測)</th>\n",
              "      <th>計算機(預測)</th>\n",
              "      <th>環境(預測)</th>\n",
              "      <th>藝術(預測)</th>\n",
              "      <th>醫藥(預測)</th>\n",
              "      <th>教育(預測)</th>\n",
              "      <th>經濟(預測)</th>\n",
              "      <th>體育(預測)</th>\n",
              "      <th>政治(預測)</th>\n",
              "    </tr>\n",
              "  </thead>\n",
              "  <tbody>\n",
              "    <tr>\n",
              "      <th>軍事(真實)</th>\n",
              "      <td>10</td>\n",
              "      <td>0</td>\n",
              "      <td>0</td>\n",
              "      <td>0</td>\n",
              "      <td>0</td>\n",
              "      <td>0</td>\n",
              "      <td>0</td>\n",
              "      <td>0</td>\n",
              "      <td>0</td>\n",
              "      <td>0</td>\n",
              "    </tr>\n",
              "    <tr>\n",
              "      <th>交通(真實)</th>\n",
              "      <td>0</td>\n",
              "      <td>10</td>\n",
              "      <td>0</td>\n",
              "      <td>0</td>\n",
              "      <td>0</td>\n",
              "      <td>0</td>\n",
              "      <td>0</td>\n",
              "      <td>0</td>\n",
              "      <td>0</td>\n",
              "      <td>0</td>\n",
              "    </tr>\n",
              "    <tr>\n",
              "      <th>計算機(真實)</th>\n",
              "      <td>0</td>\n",
              "      <td>0</td>\n",
              "      <td>10</td>\n",
              "      <td>0</td>\n",
              "      <td>0</td>\n",
              "      <td>0</td>\n",
              "      <td>0</td>\n",
              "      <td>0</td>\n",
              "      <td>0</td>\n",
              "      <td>0</td>\n",
              "    </tr>\n",
              "    <tr>\n",
              "      <th>環境(真實)</th>\n",
              "      <td>0</td>\n",
              "      <td>0</td>\n",
              "      <td>0</td>\n",
              "      <td>10</td>\n",
              "      <td>0</td>\n",
              "      <td>0</td>\n",
              "      <td>0</td>\n",
              "      <td>0</td>\n",
              "      <td>0</td>\n",
              "      <td>0</td>\n",
              "    </tr>\n",
              "    <tr>\n",
              "      <th>藝術(真實)</th>\n",
              "      <td>0</td>\n",
              "      <td>0</td>\n",
              "      <td>0</td>\n",
              "      <td>0</td>\n",
              "      <td>10</td>\n",
              "      <td>0</td>\n",
              "      <td>0</td>\n",
              "      <td>0</td>\n",
              "      <td>0</td>\n",
              "      <td>0</td>\n",
              "    </tr>\n",
              "    <tr>\n",
              "      <th>醫藥(真實)</th>\n",
              "      <td>0</td>\n",
              "      <td>0</td>\n",
              "      <td>0</td>\n",
              "      <td>0</td>\n",
              "      <td>0</td>\n",
              "      <td>10</td>\n",
              "      <td>0</td>\n",
              "      <td>0</td>\n",
              "      <td>0</td>\n",
              "      <td>0</td>\n",
              "    </tr>\n",
              "    <tr>\n",
              "      <th>教育(真實)</th>\n",
              "      <td>0</td>\n",
              "      <td>0</td>\n",
              "      <td>0</td>\n",
              "      <td>0</td>\n",
              "      <td>0</td>\n",
              "      <td>0</td>\n",
              "      <td>10</td>\n",
              "      <td>0</td>\n",
              "      <td>0</td>\n",
              "      <td>0</td>\n",
              "    </tr>\n",
              "    <tr>\n",
              "      <th>經濟(真實)</th>\n",
              "      <td>0</td>\n",
              "      <td>0</td>\n",
              "      <td>0</td>\n",
              "      <td>0</td>\n",
              "      <td>0</td>\n",
              "      <td>0</td>\n",
              "      <td>0</td>\n",
              "      <td>10</td>\n",
              "      <td>0</td>\n",
              "      <td>0</td>\n",
              "    </tr>\n",
              "    <tr>\n",
              "      <th>體育(真實)</th>\n",
              "      <td>0</td>\n",
              "      <td>0</td>\n",
              "      <td>0</td>\n",
              "      <td>0</td>\n",
              "      <td>0</td>\n",
              "      <td>0</td>\n",
              "      <td>0</td>\n",
              "      <td>0</td>\n",
              "      <td>10</td>\n",
              "      <td>0</td>\n",
              "    </tr>\n",
              "    <tr>\n",
              "      <th>政治(真實)</th>\n",
              "      <td>0</td>\n",
              "      <td>0</td>\n",
              "      <td>0</td>\n",
              "      <td>0</td>\n",
              "      <td>0</td>\n",
              "      <td>0</td>\n",
              "      <td>0</td>\n",
              "      <td>0</td>\n",
              "      <td>0</td>\n",
              "      <td>11</td>\n",
              "    </tr>\n",
              "  </tbody>\n",
              "</table>\n",
              "</div>"
            ],
            "text/plain": [
              "         軍事(預測)  交通(預測)  計算機(預測)  環境(預測)  ...  教育(預測)  經濟(預測)  體育(預測)  政治(預測)\n",
              "軍事(真實)       10       0        0       0  ...       0       0       0       0\n",
              "交通(真實)        0      10        0       0  ...       0       0       0       0\n",
              "計算機(真實)       0       0       10       0  ...       0       0       0       0\n",
              "環境(真實)        0       0        0      10  ...       0       0       0       0\n",
              "藝術(真實)        0       0        0       0  ...       0       0       0       0\n",
              "醫藥(真實)        0       0        0       0  ...       0       0       0       0\n",
              "教育(真實)        0       0        0       0  ...      10       0       0       0\n",
              "經濟(真實)        0       0        0       0  ...       0      10       0       0\n",
              "體育(真實)        0       0        0       0  ...       0       0      10       0\n",
              "政治(真實)        0       0        0       0  ...       0       0       0      11\n",
              "\n",
              "[10 rows x 10 columns]"
            ]
          },
          "metadata": {
            "tags": []
          },
          "execution_count": 59
        }
      ]
    },
    {
      "cell_type": "code",
      "metadata": {
        "id": "VfcnnxxH3589",
        "colab_type": "code",
        "colab": {
          "base_uri": "https://localhost:8080/",
          "height": 241
        },
        "outputId": "5aaf7c74-fedf-4e46-9451-cf307328dd79"
      },
      "source": [
        "test = input('輸入一篇新聞:')\n",
        "count = vec.transform([newscut(test)]) # 原本是series， poem_cut(test)是string必須變成list\n",
        "answer = clf.predict(count)[0]\n",
        "proba = clf.predict_proba(count)[0]\n",
        "for name, p in zip(u, proba):\n",
        "  print(name, '的機率', p)\n",
        "print('答案:', trans_r[answer])"
      ],
      "execution_count": 60,
      "outputs": [
        {
          "output_type": "stream",
          "text": [
            "輸入一篇新聞:隨著香港國安法通過，今年香港人投資移民台灣比例變高，就有專家預測，在這波國際買家的帶動下，隨著土地成本高以及台灣營造缺工情況下，營造成本高，相對反映在房價上，未來親民房價恐怕難見，普遍認為雙北房價將有一波漲幅空間，要找到最後1字頭房價，僅剩八里有些許機會，未來2024年淡江大橋啟用後，八里房價將有一波漲幅，要找到1字頭房價的機會可遇不可求，目前線上銷售的「水澍之間」還有機會買到1字頭\n",
            "軍事 的機率 1.6368920486361426e-19\n",
            "交通 的機率 2.152259953630041e-21\n",
            "計算機 的機率 2.262404690135721e-11\n",
            "環境 的機率 3.0473886080045876e-23\n",
            "藝術 的機率 1.4284072132070532e-13\n",
            "醫藥 的機率 4.575016952050872e-29\n",
            "教育 的機率 5.768885417400163e-14\n",
            "經濟 的機率 0.999999999977149\n",
            "體育 的機率 2.593459659590512e-20\n",
            "政治 的機率 7.15621617366157e-19\n",
            "答案: 經濟\n"
          ],
          "name": "stdout"
        }
      ]
    },
    {
      "cell_type": "code",
      "metadata": {
        "id": "MUWCPLM74QtQ",
        "colab_type": "code",
        "colab": {}
      },
      "source": [
        ""
      ],
      "execution_count": null,
      "outputs": []
    }
  ]
}