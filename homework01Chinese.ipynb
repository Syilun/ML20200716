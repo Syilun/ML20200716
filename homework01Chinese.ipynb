{
  "nbformat": 4,
  "nbformat_minor": 0,
  "metadata": {
    "colab": {
      "name": "homework01Chinese.ipynb",
      "provenance": [],
      "mount_file_id": "1ym13sGdBPhnKcicJpRExyuaUD3nBgiyE",
      "authorship_tag": "ABX9TyPbfhCJjY865+CQPOnCkQMB",
      "include_colab_link": true
    },
    "kernelspec": {
      "name": "python3",
      "display_name": "Python 3"
    }
  },
  "cells": [
    {
      "cell_type": "markdown",
      "metadata": {
        "id": "view-in-github",
        "colab_type": "text"
      },
      "source": [
        "<a href=\"https://colab.research.google.com/github/Syilun/ML20200716/blob/master/homework01Chinese.ipynb\" target=\"_parent\"><img src=\"https://colab.research.google.com/assets/colab-badge.svg\" alt=\"Open In Colab\"/></a>"
      ]
    },
    {
      "cell_type": "code",
      "metadata": {
        "id": "qO9RRrr4pbhG",
        "colab_type": "code",
        "colab": {}
      },
      "source": [
        "# task\n",
        "# acuuracy\n",
        "# confusion matrix\n",
        "# 可以input，判斷屬於何種類別\n",
        "import glob\n",
        "import os\n",
        "import pandas as pd\n",
        "\n",
        "# glob.glob(\"drive/my Drive/TibameML/chinese_news_trans/*\")\n",
        "# 先搞定path\n",
        "def getDf(targetDn):\n",
        "  datas = {\n",
        "      \"path\": [],\n",
        "      \"label\": [],\n",
        "  }\n",
        "  trans = {\n",
        "  }\n",
        "\n",
        "  base = \"drive/My Drive/TibameML\"\n",
        "  p = os.path.join(base, targetDn, \"*\")\n",
        "  # 先準備檔名\n",
        "  for dn in glob.glob(p): # 為了多給出index 所以加enumerate()\n",
        "    name = os.path.split(dn)[-1] # 用os.path.split 而不是string split 因為\n",
        "    fn = os.path.join(dn, \"*.[tT][xX][tT]\") # [tT]=select one either t or T\n",
        "    fns = glob.glob(fn)\n",
        "    datas['label'] = datas['label'] + [name] * len(fns)\n",
        "    datas['path'] = datas['path'] + fns\n",
        "  return pd.DataFrame(datas)"
      ],
      "execution_count": 18,
      "outputs": []
    },
    {
      "cell_type": "code",
      "metadata": {
        "id": "VD6_zwK2qCJc",
        "colab_type": "code",
        "colab": {}
      },
      "source": [
        "train_df = getDf('chinese_news_trans')\n",
        "test_df = getDf('chinese_news_test')"
      ],
      "execution_count": 19,
      "outputs": []
    },
    {
      "cell_type": "code",
      "metadata": {
        "id": "RWwqZcr-uF6M",
        "colab_type": "code",
        "colab": {
          "base_uri": "https://localhost:8080/",
          "height": 419
        },
        "outputId": "89344a1a-122a-4213-e5d1-fa58a6119e02"
      },
      "source": [
        "test_df"
      ],
      "execution_count": 20,
      "outputs": [
        {
          "output_type": "execute_result",
          "data": {
            "text/html": [
              "<div>\n",
              "<style scoped>\n",
              "    .dataframe tbody tr th:only-of-type {\n",
              "        vertical-align: middle;\n",
              "    }\n",
              "\n",
              "    .dataframe tbody tr th {\n",
              "        vertical-align: top;\n",
              "    }\n",
              "\n",
              "    .dataframe thead th {\n",
              "        text-align: right;\n",
              "    }\n",
              "</style>\n",
              "<table border=\"1\" class=\"dataframe\">\n",
              "  <thead>\n",
              "    <tr style=\"text-align: right;\">\n",
              "      <th></th>\n",
              "      <th>path</th>\n",
              "      <th>label</th>\n",
              "    </tr>\n",
              "  </thead>\n",
              "  <tbody>\n",
              "    <tr>\n",
              "      <th>0</th>\n",
              "      <td>drive/My Drive/TibameML/chinese_news_test/藝術/2...</td>\n",
              "      <td>藝術</td>\n",
              "    </tr>\n",
              "    <tr>\n",
              "      <th>1</th>\n",
              "      <td>drive/My Drive/TibameML/chinese_news_test/藝術/2...</td>\n",
              "      <td>藝術</td>\n",
              "    </tr>\n",
              "    <tr>\n",
              "      <th>2</th>\n",
              "      <td>drive/My Drive/TibameML/chinese_news_test/藝術/2...</td>\n",
              "      <td>藝術</td>\n",
              "    </tr>\n",
              "    <tr>\n",
              "      <th>3</th>\n",
              "      <td>drive/My Drive/TibameML/chinese_news_test/藝術/2...</td>\n",
              "      <td>藝術</td>\n",
              "    </tr>\n",
              "    <tr>\n",
              "      <th>4</th>\n",
              "      <td>drive/My Drive/TibameML/chinese_news_test/藝術/2...</td>\n",
              "      <td>藝術</td>\n",
              "    </tr>\n",
              "    <tr>\n",
              "      <th>...</th>\n",
              "      <td>...</td>\n",
              "      <td>...</td>\n",
              "    </tr>\n",
              "    <tr>\n",
              "      <th>96</th>\n",
              "      <td>drive/My Drive/TibameML/chinese_news_test/交通/4...</td>\n",
              "      <td>交通</td>\n",
              "    </tr>\n",
              "    <tr>\n",
              "      <th>97</th>\n",
              "      <td>drive/My Drive/TibameML/chinese_news_test/交通/4...</td>\n",
              "      <td>交通</td>\n",
              "    </tr>\n",
              "    <tr>\n",
              "      <th>98</th>\n",
              "      <td>drive/My Drive/TibameML/chinese_news_test/交通/4...</td>\n",
              "      <td>交通</td>\n",
              "    </tr>\n",
              "    <tr>\n",
              "      <th>99</th>\n",
              "      <td>drive/My Drive/TibameML/chinese_news_test/交通/4...</td>\n",
              "      <td>交通</td>\n",
              "    </tr>\n",
              "    <tr>\n",
              "      <th>100</th>\n",
              "      <td>drive/My Drive/TibameML/chinese_news_test/交通/4...</td>\n",
              "      <td>交通</td>\n",
              "    </tr>\n",
              "  </tbody>\n",
              "</table>\n",
              "<p>101 rows × 2 columns</p>\n",
              "</div>"
            ],
            "text/plain": [
              "                                                  path label\n",
              "0    drive/My Drive/TibameML/chinese_news_test/藝術/2...    藝術\n",
              "1    drive/My Drive/TibameML/chinese_news_test/藝術/2...    藝術\n",
              "2    drive/My Drive/TibameML/chinese_news_test/藝術/2...    藝術\n",
              "3    drive/My Drive/TibameML/chinese_news_test/藝術/2...    藝術\n",
              "4    drive/My Drive/TibameML/chinese_news_test/藝術/2...    藝術\n",
              "..                                                 ...   ...\n",
              "96   drive/My Drive/TibameML/chinese_news_test/交通/4...    交通\n",
              "97   drive/My Drive/TibameML/chinese_news_test/交通/4...    交通\n",
              "98   drive/My Drive/TibameML/chinese_news_test/交通/4...    交通\n",
              "99   drive/My Drive/TibameML/chinese_news_test/交通/4...    交通\n",
              "100  drive/My Drive/TibameML/chinese_news_test/交通/4...    交通\n",
              "\n",
              "[101 rows x 2 columns]"
            ]
          },
          "metadata": {
            "tags": []
          },
          "execution_count": 20
        }
      ]
    },
    {
      "cell_type": "code",
      "metadata": {
        "id": "JIb-PkuHuG7V",
        "colab_type": "code",
        "colab": {}
      },
      "source": [
        "def read_content(fn):\n",
        "  with open(fn, 'r', encoding='utf8') as file:\n",
        "    content = file.read()\n",
        "  return content\n",
        "\n",
        "train_df['content'] = train_df['path'].apply(read_content)\n",
        "test_df['content'] = test_df['path'].apply(read_content)\n"
      ],
      "execution_count": null,
      "outputs": []
    },
    {
      "cell_type": "code",
      "metadata": {
        "id": "nXhaYfeQuqs1",
        "colab_type": "code",
        "colab": {}
      },
      "source": [
        ""
      ],
      "execution_count": null,
      "outputs": []
    }
  ]
}